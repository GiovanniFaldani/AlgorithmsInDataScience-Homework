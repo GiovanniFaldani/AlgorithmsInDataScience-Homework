{
 "cells": [
  {
   "cell_type": "markdown",
   "id": "aebeaac9-5dbb-4093-bb06-597d616c1819",
   "metadata": {},
   "source": [
    "<font size=5  color=#003366> [LINMA2472] - Algorithms in Data Science <br>\n",
    "Project 1: Networks </font> <br><br>\n",
    "<font size=3  color=#003366>  Students: Iacopo Canetta, Giovanni Faldani\n",
    "<br><br>"
   ]
  },
  {
   "cell_type": "markdown",
   "id": "b8ee9aae-32ac-4e40-89c6-8b8196a232ad",
   "metadata": {},
   "source": [
    "- <font size=4  color=#003366>Task 1: building the co-occurence network of characters </font> <br><br>\n",
    "In this project we'll build a graph network representing the bonds between characters present in the classical novel \"The Betrothed\" by Alessandro Manzoni"
   ]
  },
  {
   "cell_type": "code",
   "execution_count": 11,
   "id": "b15380d0-ca44-4edb-83c6-a70993a3c706",
   "metadata": {},
   "outputs": [
    {
     "name": "stderr",
     "output_type": "stream",
     "text": [
      "[nltk_data] Downloading package punkt to\n",
      "[nltk_data]     C:\\Users\\Giovanni\\AppData\\Roaming\\nltk_data...\n",
      "[nltk_data]   Package punkt is already up-to-date!\n"
     ]
    },
    {
     "data": {
      "text/plain": [
       "True"
      ]
     },
     "execution_count": 11,
     "metadata": {},
     "output_type": "execute_result"
    }
   ],
   "source": [
    "# basic imports\n",
    "import numpy as np\n",
    "import pandas as pd # useful dataframe support\n",
    "import scipy as sp\n",
    "from matplotlib import pyplot as plt # plot operations\n",
    "import networkx as nx # useful for network operations\n",
    "import nltk # useful for sentence parsing\n",
    "import re # regular expressions for text parsing and finding proper names\n",
    "nltk.download('punkt')"
   ]
  },
  {
   "cell_type": "code",
   "execution_count": 29,
   "id": "53d5071d-f966-4633-9401-bf3cf10c6461",
   "metadata": {},
   "outputs": [
    {
     "name": "stdout",
     "output_type": "stream",
     "text": [
      "The text is composed of 2696 paragraphs!\n",
      "\n",
      "\"Oh! for Heaven's sake--how should I understand all this Latin?\"\n",
      "\n",
      "Paragraph 149 is composed of 2 sentences, 1 dialogues and 3 proper names\n",
      "\"Oh!\n",
      "Oh! for Heaven's sake--how should I understand all this Latin?\n",
      "Oh\n"
     ]
    }
   ],
   "source": [
    "# text file parsing\n",
    "txt_filename = \"./data/pg35155.txt\"\n",
    "\n",
    "text = []\n",
    "with open(txt_filename, \"r\") as input_f:\n",
    "    text = input_f.read()\n",
    "\n",
    "# split text by paragraph\n",
    "paragraphs = text.split(\"\\n\\n\")#\\n is the name for skipping to the next line\n",
    "print(\"The text is composed of {} paragraphs!\\n\".format(len(paragraphs)))\n",
    "\n",
    "# extract all individual sentences from a text\n",
    "def sentences_in(text):\n",
    "    sent_detector = nltk.data.load('tokenizers/punkt/english.pickle')\n",
    "\n",
    "    sentences = sent_detector.tokenize(text.strip())\n",
    "    return sentences\n",
    "\n",
    "# extract all the dialogue within quotations in a text\n",
    "def dialogue_in(text):\n",
    "    return re.findall('\"([^\"]*)\"', text)\n",
    "\n",
    "# extract all words beginning with a capital letter in a text\n",
    "def proper_names_in(text):\n",
    "    return re.findall(\"(?<!^)(?<!\\. )[A-Z][a-z]+\", text)\n",
    "\n",
    "# test with a random paragraph\n",
    "n = 149\n",
    "\n",
    "print(paragraphs[n])\n",
    "dialogues = dialogue_in(paragraphs[n])\n",
    "sentences = sentences_in(paragraphs[n])\n",
    "names = proper_names_in(paragraphs[n])\n",
    "print(\"\\nParagraph {} is composed of {} sentences, {} dialogues and {} proper names\".format(\n",
    "    n, len(sentences), len(dialogues), len(names)))\n",
    "print(sentences[0])\n",
    "print(dialogues[0])\n",
    "print(names[0])"
   ]
  },
  {
   "cell_type": "markdown",
   "id": "5a603f9d-5dbe-4699-bed1-b332a1ae6e12",
   "metadata": {},
   "source": [
    "- As we can see finding the proper names of characters is no easy task, so we decided to rely on an external list of characters to look for matches and build our graph."
   ]
  },
  {
   "cell_type": "code",
   "execution_count": 31,
   "id": "999e389e-f24e-4505-8d35-266a612bca62",
   "metadata": {},
   "outputs": [
    {
     "name": "stdout",
     "output_type": "stream",
     "text": [
      "{'Suffer', 'Dublin', 'Lent', 'Frenchmen', 'Hurried', 'Approach', 'Fuentes', 'Proofreading', 'Unknown', 'Special', 'Corsia', 'Bravo', 'Avola', 'Anselmo', 'Beso', 'Tadino', 'Quick', 'Dress', 'Where', 'Immediately', 'Salio', 'Lend', 'Saints', 'Reflecting', 'College', 'Capitano', 'Mixture', 'Books', 'San', 'Excepting', 'Lucy', 'Her', 'Pierpaolo', 'Heaps', 'Pollute', 'Trilingue', 'Unfeeling', 'Marco', 'Pretty', 'Since', 'Freas', 'Web', 'Adam', 'Gera', 'Jervase', 'Transcriber', 'Carlo', 'Except', 'Bione', 'Even', 'Pshaw', 'What', 'Could', 'Melan', 'Umph', 'Pavia', 'Rascals', 'Galignani', 'Satan', 'Renzo', 'Gregory', 'Sections', 'Milanese', 'Wearied', 'April', 'Aim', 'Spanish', 'Hush', 'Usted', 'Dinner', 'Rivola', 'Pentecost', 'Virgin', 'Cassano', 'Gonzalo', 'Note', 'Cupid', 'Heliogabalus', 'Paris', 'Bartolo', 'Chamber', 'Resegone', 'Kite', 'Schenchio', 'Alcabizio', 'Bergamascans', 'Atqui', 'European', 'Gently', 'Arragon', 'Section', 'Don', 'Printed', 'Sicily', 'Aroused', 'Know', 'Saturn', 'Stop', 'London', 'Release', 'Vigny', 'Fifteenth', 'Tis', 'Indeed', 'Azzecca', 'An', 'Tuscan', 'Donna', 'Bodin', 'Majesty', 'Shall', 'These', 'Assertions', 'Perdone', 'Begone', 'United', 'Holland', 'His', 'Clement', 'Truth', 'Liscate', 'Dionysius', 'Different', 'Canadian', 'Attilio', 'In', 'Stay', 'Doctor', 'Carrobio', 'Porta', 'Terms', 'Valsassina', 'Delivered', 'Excuse', 'Haro', 'Over', 'Marquis', 'Until', 'Ragion', 'Gaspero', 'Spaniard', 'Defect', 'Cordova', 'Gentlemen', 'Martino', 'Name', 'Remember', 'Tanabuso', 'Bad', 'Hugo', 'Scarcely', 'Englishman', 'Tony', 'Borgo', 'Salt', 'Charles', 'Romans', 'Each', 'Almighty', 'Any', 'Historia', 'Additional', 'Brianza', 'Bosca', 'Prassede', 'Lara', 'Biron', 'Silence', 'Bergamascan', 'Maggianico', 'Si', 'Some', 'Catiline', 'Loud', 'Redistributing', 'Endeavour', 'Escape', 'Infanti', 'Marchese', 'From', 'Not', 'Burgeto', 'Project', 'Olivares', 'Martha', 'Lecco', 'Christopher', 'Ambrosian', 'Politeness', 'Savoy', 'Borghese', 'Alas', 'Verona', 'Psyche', 'Here', 'Catholic', 'Que', 'Learn', 'Throughout', 'Richelieu', 'March', 'Primaluna', 'Open', 'Po', 'Devil', 'Antony', 'Thank', 'Cut', 'Saint', 'Suza', 'Because', 'Royalty', 'Author', 'Castagneri', 'Barsio', 'Biffi', 'Answer', 'Pindus', 'To', 'Friar', 'Signor', 'Often', 'Esto', 'Shame', 'Patience', 'Antanasio', 'Great', 'Friends', 'Abbondio', 'Vallistai', 'Unless', 'Bless', 'Prison', 'Cedant', 'Make', 'Mississippi', 'Who', 'Dyck', 'Then', 'West', 'Returning', 'Emperor', 'Thoughout', 'Giovia', 'Figueroa', 'September', 'Give', 'People', 'Ambrose', 'Van', 'Holiness', 'Halt', 'Egidio', 'Gracias', 'El', 'Prepare', 'Well', 'Hear', 'Adda', 'Bergamo', 'Bring', 'Already', 'Full', 'Mendoza', 'Did', 'Mayence', 'States', 'Most', 'Spain', 'Venetian', 'Away', 'Stories', 'Bentley', 'Signora', 'Settala', 'Copyright', 'Curse', 'Rising', 'Woe', 'Our', 'Roman', 'Executive', 'Lunghigna', 'Chief', 'Podest', 'Better', 'Professor', 'Nothing', 'Father', 'Permit', 'Carry', 'Perpetua', 'Discorsi', 'Federigo', 'Asi', 'Levant', 'Wallenstein', 'Whoever', 'Livy', 'Yes', 'Duke', 'Nay', 'Magni', 'Count', 'Novels', 'Volunteers', 'My', 'Pozzobonelli', 'October', 'Good', 'German', 'Moors', 'Eastern', 'Difficulties', 'Margherita', 'General', 'Enriquez', 'When', 'Willingly', 'Command', 'Patri', 'Numerous', 'Thou', 'Both', 'Your', 'Receiving', 'Within', 'Fled', 'Through', 'Rivolta', 'Valtelline', 'Considering', 'Whether', 'High', 'Mondella', 'Had', 'Very', 'Chamberlain', 'Diogenes', 'Lutherans', 'Converted', 'Off', 'Square', 'Novel', 'Return', 'Ed', 'Flight', 'Look', 'Jews', 'Dreadful', 'Navarre', 'Dionigi', 'Health', 'Those', 'Ovid', 'Europe', 'Something', 'Monza', 'City', 'Bonaventura', 'She', 'Naviglio', 'Tumult', 'Gomez', 'Frederick', 'Gonzaga', 'Redistribution', 'Guastalla', 'It', 'Peace', 'Holding', 'Cross', 'Reverend', 'Turning', 'Run', 'Mad', 'Jerusalem', 'Philip', 'Macbeth', 'Germany', 'Ferrar', 'Bacchus', 'Rimini', 'Cruelly', 'Nuova', 'Further', 'Nuovo', 'Refund', 'Nathan', 'Thanks', 'Illustration', 'Hasten', 'Brescia', 'Pescheria', 'Highness', 'Gospel', 'Charybdis', 'Error', 'Castile', 'Stefano', 'Jupiter', 'Cesalpino', 'Crucis', 'Francis', 'Every', 'Having', 'Upon', 'Him', 'Garbugli', 'Nectar', 'Why', 'Rocroi', 'Menico', 'Ripamonti', 'Think', 'Rhetel', 'Gonsalez', 'Adelante', 'Bortolo', 'Zaccaria', 'Canterelli', 'Persian', 'Speak', 'Certainly', 'Victor', 'Go', 'Mantua', 'Up', 'Three', 'Fusella', 'Greek', 'Castello', 'St', 'Pescarenico', 'Crowds', 'Date', 'Throw', 'Andrea', 'Now', 'Brutus', 'Barbara', 'Towards', 'Torquato', 'Antonio', 'Bully', 'One', 'Por', 'Drink', 'Felix', 'Lodi', 'Clear', 'Urban', 'Montanarolo', 'Aristotle', 'Fright', 'Hold', 'Apropos', 'Are', 'While', 'Images', 'Console', 'He', 'Macario', 'Spirit', 'Bellano', 'Lebanon', 'Castiglione', 'Carlotto', 'Principe', 'Language', 'Tell', 'Pope', 'Unfortunately', 'David', 'Christians', 'Pray', 'Before', 'Arabic', 'Would', 'June', 'You', 'Six', 'Really', 'Hart', 'Agreed', 'Holy', 'Richard', 'Foreign', 'Among', 'Lorenzo', 'Clothed', 'Legal', 'Carlandrea', 'Confiding', 'Abandon', 'For', 'Gregorio', 'Have', 'Long', 'Boccalini', 'Stella', 'Metastasio', 'Poor', 'Turn', 'Barberini', 'Aimwell', 'Reproach', 'Unhappy', 'During', 'With', 'Behave', 'Jehoshaphat', 'Sesto', 'Montferrat', 'Ambrosio', 'Thebaid', 'Dame', 'Tosa', 'Exhausted', 'Information', 'Zachia', 'Disquisitions', 'Plunging', 'Impunity', 'Email', 'Fly', 'All', 'Children', 'Abundance', 'Il', 'Marina', 'Thursday', 'Public', 'Florence', 'Besides', 'Hannibal', 'Shut', 'La', 'Excellency', 'Holla', 'Mercanti', 'Compliments', 'Farewell', 'Lower', 'Duchess', 'Galdino', 'Reduced', 'Cardan', 'Although', 'Sir', 'Velasco', 'Say', 'Right', 'Trezzo', 'Vanilla', 'Rome', 'Introbbio', 'Casale', 'Compliance', 'Relieving', 'Undoubtedly', 'Gertrude', 'Foundation', 'God', 'Recognising', 'Above', 'Baggiani', 'Betrothed', 'Ferdinand', 'Will', 'If', 'Henry', 'Fazio', 'Castelnuovo', 'Pedro', 'Defects', 'Such', 'Forgive', 'Royal', 'Christian', 'Suolavecchia', 'Take', 'Santa', 'Flanders', 'Seek', 'Keep', 'More', 'Angelo', 'Banquo', 'Comfort', 'Donations', 'Greco', 'Villain', 'Romagna', 'Women', 'Once', 'Ton', 'Robbers', 'Domain', 'Cond', 'Omnia', 'Captain', 'Tullio', 'Venice', 'But', 'No', 'Paruta', 'Marcellino', 'Borghetto', 'Videt', 'Reverence', 'Gorgonzola', 'Nevers', 'Scylla', 'Seize', 'Libraries', 'Griso', 'Mission', 'At', 'Cursed', 'Miserable', 'Terranova', 'Cecilia', 'Courage', 'Swear', 'Naples', 'Worthy', 'Just', 'Convention', 'Latin', 'That', 'Ah', 'Italian', 'Lombard', 'Lord', 'Decameron', 'Mark', 'Formerly', 'Yesterday', 'November', 'Canonica', 'Which', 'Surely', 'Grisons', 'Signorina', 'Despite', 'Corrupt', 'Accomplish', 'Giustizia', 'Emanuel', 'French', 'Its', 'Were', 'Bread', 'Malatesti', 'Updated', 'Distributed', 'Contact', 'Does', 'Tramaglino', 'Valdistano', 'Night', 'Girolamo', 'Homer', 'Casati', 'England', 'Company', 'Serve', 'Milan', 'Christ', 'Heaven', 'Carlos', 'Poh', 'Original', 'Mercy', 'Is', 'Chancellor', 'Fiction', 'Aqui', 'February', 'Stephano', 'Ha', 'Prudence', 'Michele', 'Cavalcanti', 'Pasturo', 'Nor', 'Provision', 'Happily', 'Like', 'Beyond', 'Como', 'International', 'Ferrante', 'Come', 'Nearly', 'Please', 'Assuredly', 'First', 'Sin', 'Precisely', 'Finally', 'Ogre', 'North', 'Borromeo', 'Learning', 'Venga', 'Via', 'Me', 'Imagine', 'Pareo', 'Till', 'License', 'Things', 'Turkey', 'None', 'Madrid', 'Pilgrim', 'Armenian', 'Crr', 'Easy', 'By', 'Colburn', 'Bell', 'Being', 'History', 'Tasso', 'Teela', 'Cheats', 'Eh', 'Headstrong', 'Rest', 'Opposed', 'Cura', 'Malanotte', 'Dr', 'Team', 'Prince', 'Soranzo', 'Mary', 'Nevertheless', 'Pisa', 'Michael', 'Informing', 'Gonsalvo', 'Between', 'Archive', 'Write', 'We', 'Alessio', 'Be', 'Tribunal', 'Must', 'Illustrious', 'Fine', 'Few', 'See', 'Piasentini', 'Host', 'Viceroy', 'Disappointment', 'Muratori', 'Oh', 'Fernandez', 'Their', 'Escaped', 'December', 'Cardinal', 'Pietro', 'Rochelle', 'Bartholomew', 'Whom', 'Whilst', 'Juan', 'Fifteen', 'Use', 'Ludovico', 'Legend', 'Dios', 'Gutenberg', 'Accept', 'Folly', 'Servi', 'Eat', 'Treatises', 'Agitated', 'However', 'Ergo', 'Others', 'Sometimes', 'Still', 'Was', 'Pescate', 'Fairbanks', 'Volume', 'Lady', 'Contributions', 'France', 'Venetians', 'Director', 'Pandolfo', 'Manzoni', 'Meanwhile', 'Regnante', 'Down', 'Hosts', 'Plain', 'Complete', 'August', 'Italy', 'Listen', 'Another', 'Plague', 'Hereafter', 'Senate', 'Admiral', 'Trying', 'Service', 'Directly', 'Bowing', 'Sansovino', 'Archbishop', 'Isaiah', 'Behind', 'Vincenzo', 'This', 'Levantese', 'Many', 'Rise', 'Misery', 'Successor', 'Rascal', 'Laertius', 'Bouillon', 'Oriental', 'True', 'Delrio', 'Constable', 'Valeriano', 'Paradise', 'Dare', 'Convalescent', 'Galasso', 'Hardly', 'Shop', 'Brandenburgh', 'Do', 'After', 'Quiet', 'Home', 'Truly', 'Magic', 'Should', 'Has', 'Standard', 'Guzman', 'Notwithstanding', 'Anzalt', 'Feria', 'New', 'Life', 'May', 'Notre', 'Internet', 'Am', 'Literary', 'Trust', 'Need', 'Allured', 'Lombardy', 'Moorish', 'Overpowerful', 'Entering', 'Lake', 'Ferrer', 'Overcome', 'Monte', 'Stato', 'Eminence', 'Louis', 'Berlinghe', 'Botero', 'Argantes', 'Guess', 'Let', 'Hebrew', 'Cousin', 'Nassau', 'Castelvetrano', 'Sunday', 'Of', 'Promise', 'Remain', 'Suddenly', 'January', 'Governor', 'Cortenova', 'Blessed', 'Animo', 'Marrados', 'Moon', 'Undress', 'Cordusio', 'Faith', 'Chaldee', 'Help', 'Cumming', 'Uttering', 'Ferrera', 'Deo', 'Platonic', 'Discussing', 'How', 'Approaching', 'Nibbio', 'Archimedes', 'As', 'Revenue', 'Enough', 'Greece', 'Curate', 'Toledo', 'Achilles', 'Tacitus', 'Navarrese', 'Leave', 'Switzerland', 'Afflicted', 'Doctors', 'Without', 'Collato', 'Hope', 'Behold', 'Roderick', 'Roland', 'Men', 'Online', 'English', 'Perhaps', 'Seven', 'Providence', 'Library', 'Content', 'Suarez', 'Platonas', 'Compassion', 'Creating', 'Holofernes', 'Young', 'Back', 'King', 'Book', 'Francesco', 'Edinburgh', 'About', 'They', 'Depart', 'So', 'Reali', 'Pardon', 'Near', 'Always', 'Too', 'Spinola', 'Witout', 'Felice', 'Internal', 'Alessandro', 'Agnes', 'Anthony', 'Statista', 'Translated', 'Save', 'Swallow', 'Impossible', 'Beppo', 'The', 'Hynojosa', 'Softly', 'Betsy', 'Indian', 'Noah', 'Francia', 'Emanuela', 'Lorraine', 'Medici', 'Ay', 'Done', 'Colico', 'Fortunately', 'Replacement', 'Marcus', 'Can', 'Act', 'Paul', 'Balobbio', 'Chiodo', 'Thence', 'Provincial', 'Coming', 'Rash', 'Fire', 'Giovanni', 'Title', 'Fear', 'Maria', 'And', 'State', 'Ave', 'Grevino', 'Thus', 'Biondino', 'Senectus', 'Thaddeus', 'Ho', 'Wait', 'Acevedo', 'Carneades', 'There', 'Under', 'Pass', 'Submit', 'Or', 'Fathers', 'Street', 'Martin', 'Crutches', 'Casting', 'On', 'Burlington', 'Christina', 'Bradfute'}\n"
     ]
    }
   ],
   "source": [
    "# let's list all the proper names in the book. This might take a while...\n",
    "allNames = set(proper_names_in(text))\n",
    "print(allNames)\n",
    "# need to make a decision here"
   ]
  },
  {
   "cell_type": "code",
   "execution_count": null,
   "id": "7a3500c8-ccb6-445a-b4d1-af19cfbe44d3",
   "metadata": {},
   "outputs": [],
   "source": []
  }
 ],
 "metadata": {
  "kernelspec": {
   "display_name": "Python 3 (ipykernel)",
   "language": "python",
   "name": "python3"
  },
  "language_info": {
   "codemirror_mode": {
    "name": "ipython",
    "version": 3
   },
   "file_extension": ".py",
   "mimetype": "text/x-python",
   "name": "python",
   "nbconvert_exporter": "python",
   "pygments_lexer": "ipython3",
   "version": "3.8.8"
  }
 },
 "nbformat": 4,
 "nbformat_minor": 5
}
