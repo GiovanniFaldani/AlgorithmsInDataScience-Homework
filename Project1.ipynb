{
 "cells": [
  {
   "cell_type": "markdown",
   "id": "aebeaac9-5dbb-4093-bb06-597d616c1819",
   "metadata": {},
   "source": [
    "<font size=5  color=#003366> [LINMA2472] - Algorithms in Data Science <br>\n",
    "Project 1: Networks </font> <br><br>\n",
    "<font size=3  color=#003366>  Students: Iacopo Canetta, Giovanni Faldani\n",
    "<br><br>"
   ]
  },
  {
   "cell_type": "markdown",
   "id": "b8ee9aae-32ac-4e40-89c6-8b8196a232ad",
   "metadata": {},
   "source": [
    "- <font size=4  color=#003366>Task 1: building the co-occurence network of characters </font> <br><br>\n",
    "In this project we'll build a graph network representing the bonds between characters present in the classical novel \"The Betrothed\" by Alessandro Manzoni"
   ]
  },
  {
   "cell_type": "code",
   "execution_count": 1,
   "id": "b15380d0-ca44-4edb-83c6-a70993a3c706",
   "metadata": {},
   "outputs": [
    {
     "name": "stderr",
     "output_type": "stream",
     "text": [
      "[nltk_data] Downloading package punkt to\n",
      "[nltk_data]     C:\\Users\\Iacopo\\AppData\\Roaming\\nltk_data...\n",
      "[nltk_data]   Unzipping tokenizers\\punkt.zip.\n"
     ]
    },
    {
     "data": {
      "text/plain": [
       "True"
      ]
     },
     "execution_count": 1,
     "metadata": {},
     "output_type": "execute_result"
    }
   ],
   "source": [
    "# basic imports\n",
    "import numpy as np\n",
    "import pandas as pd # useful dataframe support\n",
    "import scipy as sp\n",
    "from matplotlib import pyplot as plt # plot operations\n",
    "import networkx as nx # useful for network operations\n",
    "import nltk # useful for sentence parsing\n",
    "import re # regular expressions for text parsing and finding proper names\n",
    "nltk.download('punkt')"
   ]
  },
  {
   "cell_type": "code",
   "execution_count": 22,
   "id": "53d5071d-f966-4633-9401-bf3cf10c6461",
   "metadata": {},
   "outputs": [
    {
     "name": "stdout",
     "output_type": "stream",
     "text": [
      "The text is composed of 1202 paragraphs!\n",
      "\n",
      "From all that has been said, we may imagine the effect the meeting just\n",
      "described must have had upon the mind of poor Don Abbondio. Those fierce\n",
      "countenances, the threats of a lord who was well known not to speak\n",
      "idly, his plan of quiet life and patient endurance disconcerted in an\n",
      "instant, a difficulty before him from which he saw no possibility of\n",
      "extrication; all these thoughts rushed confusedly through his mind. \"If\n",
      "Renzo could be quietly dismissed with a refusal, all would be well; but\n",
      "he will require reasons--and what can I say to him? he too has a head of\n",
      "his own; a lamb, if not meddled with--but once attempt to cross him----\n",
      "Oh!--and raving after that Lucy, as much enamoured as---- Young idiots!\n",
      "who, for want of something else to do, fall in love, and must be\n",
      "married, forsooth, thinking of nothing else, never concerning themselves\n",
      "about the trouble they bring upon an honest man like me. Wretch that I\n",
      "am! Why should those two scowling faces plant themselves exactly in my\n",
      "path, and pick a quarrel with me? What have I to do in the matter? Is it\n",
      "I that mean to wive? Why did they not rather go and speak---- Ah! truly,\n",
      "that which is to the purpose always occurs to me after the right time:\n",
      "if I had but thought of suggesting to them to go and bear their\n",
      "message----\" But here he was disturbed by the reflection, that to repent\n",
      "of not having been the counsellor and abettor of evil, was too\n",
      "iniquitous a thing; and he therefore turned the rancour of his thoughts\n",
      "against the individual who had thus robbed him of his tranquillity. He\n",
      "did not know Don Roderick, except by sight and by report; his sole\n",
      "intercourse with him had been to touch chin to breast, and the ground\n",
      "with the corner of his hat, the few times he had met him on the road.\n",
      "He had, on more than one occasion, defended the reputation of that\n",
      "Signor against those who, in an under-tone, with sighs and looks raised\n",
      "to heaven, had execrated some one of his exploits. He had declared a\n",
      "hundred times that he was a respectable cavalier. But at this moment he,\n",
      "in his own heart, readily bestowed upon him all those titles to which he\n",
      "would never lend an ear from another. Having, amidst the tumult of these\n",
      "thoughts, reached the entrance of his house, which stood at the end of\n",
      "the little glebe, he unlocked the door, entered, and carefully secured\n",
      "it within. Anxious to find himself in society that he could trust, he\n",
      "called aloud, \"Perpetua, Perpetua,\" advancing towards the little parlour\n",
      "where she was, doubtless, employed in preparing the table for his\n",
      "supper. Perpetua was, as the reader must be aware, the housekeeper of\n",
      "Don Abbondio; an affectionate and faithful domestic, who knew how to\n",
      "obey or command as occasion served; to bear the grumbling and whims of\n",
      "her master at times, and at others to make him bear with hers. These\n",
      "were becoming every day more frequent; she had passed the age of forty\n",
      "in a single state; the consequences, _she_ said, of having refused all\n",
      "the offers that had been made her; her _female friends_ asserted that\n",
      "she had never found any one willing to take her.\n",
      "\n",
      "Paragraph 75 is composed of 19 sentences, 2 dialogues and 31 proper names\n",
      "From all that has been said, we may imagine the effect the meeting just\n",
      "described must have had upon the mind of poor Don Abbondio.\n",
      "If\n",
      "Renzo could be quietly dismissed with a refusal, all would be well; but\n",
      "he will require reasons--and what can I say to him? he too has a head of\n",
      "his own; a lamb, if not meddled with--but once attempt to cross him----\n",
      "Oh!--and raving after that Lucy, as much enamoured as---- Young idiots!\n",
      "who, for want of something else to do, fall in love, and must be\n",
      "married, forsooth, thinking of nothing else, never concerning themselves\n",
      "about the trouble they bring upon an honest man like me. Wretch that I\n",
      "am! Why should those two scowling faces plant themselves exactly in my\n",
      "path, and pick a quarrel with me? What have I to do in the matter? Is it\n",
      "I that mean to wive? Why did they not rather go and speak---- Ah! truly,\n",
      "that which is to the purpose always occurs to me after the right time:\n",
      "if I had but thought of suggesting to them to go and bear their\n",
      "message----\n",
      "From\n"
     ]
    }
   ],
   "source": [
    "# text file parsing\n",
    "txt_filename = \"./data/pg35155.txt\"\n",
    "\n",
    "text = []\n",
    "with open(txt_filename, \"r\") as input_f:\n",
    "    text = input_f.read()\n",
    "\n",
    "# split text by paragraph\n",
    "\n",
    "paragraphs = re.split(\"(?<!\\\")\\n\\n(?<!\\\")\", text)#\\n is the name for skipping to the next line\n",
    "print(\"The text is composed of {} paragraphs!\\n\".format(len(paragraphs)))\n",
    "\n",
    "# extract all individual sentences from a text\n",
    "def sentences_in(text):\n",
    "    sent_detector = nltk.data.load('tokenizers/punkt/english.pickle')\n",
    "\n",
    "    sentences = sent_detector.tokenize(text.strip())\n",
    "    return sentences\n",
    "\n",
    "# extract all the dialogue within quotations in a text\n",
    "def dialogue_in(text):\n",
    "    return re.findall('\"([^\"]*)\"', text)\n",
    "\n",
    "# extract all words beginning with a capital letter in a text\n",
    "def proper_names_in(text):\n",
    "    return re.findall(\"[A-Z][a-z]+\", text)\n",
    "\n",
    "# test with a random paragraph\n",
    "n = 75\n",
    "\n",
    "print(paragraphs[n])\n",
    "dialogues = dialogue_in(paragraphs[n])\n",
    "sentences = sentences_in(paragraphs[n])\n",
    "names = proper_names_in(paragraphs[n])\n",
    "print(\"\\nParagraph {} is composed of {} sentences, {} dialogues and {} proper names\".format(\n",
    "    n, len(sentences), len(dialogues), len(names)))\n",
    "print(sentences[0])\n",
    "print(dialogues[0])\n",
    "print(names[0])"
   ]
  },
  {
   "cell_type": "markdown",
   "id": "5a603f9d-5dbe-4699-bed1-b332a1ae6e12",
   "metadata": {},
   "source": [
    "- As we can see finding the proper names of characters is no easy task, so we decided to rely on an external list of characters to look for matches and build our graph."
   ]
  },
  {
   "cell_type": "code",
   "execution_count": 23,
   "id": "999e389e-f24e-4505-8d35-266a612bca62",
   "metadata": {},
   "outputs": [
    {
     "name": "stdout",
     "output_type": "stream",
     "text": [
      "{'Bell', 'Liscate', 'Happily', 'Cross', 'Bravo', 'Supper', 'Martino', 'Mixture', 'Intently', 'Ask', 'Atqui', 'Castelnuovo', 'Clothed', 'Of', 'Few', 'Quick', 'Fathers', 'Esto', 'Street', 'While', 'One', 'Remember', 'Having', 'An', 'Your', 'Rascals', 'Videt', 'Ergo', 'Magni', 'Within', 'Avola', 'Receiving', 'Need', 'Long', 'Hurried', 'Pisa', 'Special', 'Hang', 'Malatesti', 'United', 'Michael', 'Recourse', 'Italy', 'Then', 'Ha', 'Antanasio', 'Casting', 'Above', 'Upon', 'Duke', 'Ho', 'Canonica', 'Lebanon', 'Vineyards', 'Ay', 'However', 'Emanuel', 'Learn', 'His', 'Spain', 'Betsy', 'Hearing', 'Cortenova', 'Regrets', 'Dinner', 'Chancellor', 'Servi', 'Probably', 'Pescarenico', 'Aroused', 'French', 'Biondino', 'Father', 'Date', 'Foreign', 'Only', 'Throughout', 'Leaving', 'Santa', 'Permit', 'Lent', 'Saint', 'Section', 'Indian', 'Giustizia', 'April', 'Lodi', 'Tormented', 'Il', 'My', 'Moreover', 'Afterwards', 'Persian', 'Perhaps', 'Pasturo', 'Off', 'Cheats', 'Fusella', 'Tuscan', 'Hastening', 'Asi', 'Avoid', 'Defect', 'Still', 'Successor', 'Biffi', 'Eight', 'Pope', 'Night', 'Near', 'Moorish', 'Born', 'Paruta', 'Passing', 'Web', 'Unhappy', 'Rivola', 'Clear', 'Immediately', 'People', 'Borghese', 'Holla', 'Dignity', 'Milanese', 'Castile', 'Tragical', 'Translated', 'Mendoza', 'Philip', 'Gregory', 'September', 'Coming', 'Often', 'Curse', 'Bless', 'Go', 'Figueroa', 'Martha', 'Paradise', 'Abandoned', 'Unfortunately', 'Where', 'Enter', 'Halt', 'Captain', 'Shop', 'No', 'None', 'They', 'Dame', 'Que', 'Forgiveness', 'Discorsi', 'Young', 'Unless', 'Levant', 'Original', 'Act', 'Be', 'Urban', 'Accept', 'Politeness', 'Gomez', 'Fiction', 'Open', 'Dare', 'Reflecting', 'Cowards', 'Excepting', 'Speak', 'Give', 'Clement', 'Mississippi', 'Zachia', 'You', 'Cut', 'Stato', 'Casale', 'Homer', 'Prison', 'Should', 'First', 'Have', 'Drawing', 'Mondella', 'Poh', 'Umph', 'Swear', 'Holding', 'Noah', 'It', 'Lucar', 'Help', 'Heliogabalus', 'Fear', 'Arrived', 'Por', 'Nearly', 'Knowing', 'Six', 'Compliance', 'Think', 'Plunging', 'Cupid', 'Fright', 'Introbbio', 'Nature', 'Botero', 'Rest', 'Majesty', 'Sections', 'Exhausted', 'Book', 'Lombardy', 'Headstrong', 'Making', 'Attacked', 'Yes', 'Such', 'October', 'Considering', 'Egidio', 'Bowing', 'Throw', 'Stop', 'Fine', 'Thanks', 'College', 'La', 'Crutches', 'Right', 'Bosca', 'From', 'Dios', 'Jews', 'Tosa', 'She', 'Patience', 'Pollute', 'Ragion', 'Ferrante', 'Canterelli', 'Mingled', 'Public', 'Here', 'Any', 'Apropos', 'Assuredly', 'Carlotto', 'Lower', 'Admiral', 'Saturn', 'Valsassina', 'Folly', 'Sin', 'Hannibal', 'Suarez', 'Crr', 'Time', 'Schenchio', 'May', 'Once', 'Different', 'Carrobio', 'Company', 'Miserable', 'Turn', 'Hold', 'When', 'Holland', 'As', 'Reaching', 'Borromeo', 'Livy', 'Enriquez', 'Carlandrea', 'Home', 'Rivolta', 'Softly', 'Without', 'Lunghigna', 'Like', 'Francis', 'Venetian', 'Why', 'Gentlemen', 'Tony', 'Stephano', 'Castagneri', 'Mark', 'We', 'Prepare', 'Naturally', 'Guess', 'Tanabuso', 'Last', 'Scylla', 'Charybdis', 'During', 'Lara', 'Irritated', 'Rascal', 'Or', 'Use', 'Allured', 'Until', 'Reverence', 'Foundation', 'Bread', 'Angelo', 'Regretting', 'Bartolo', 'Undoubtedly', 'Novel', 'Naviglio', 'Provided', 'Lutherans', 'Spottiswoode', 'Historia', 'German', 'Chiodo', 'Let', 'With', 'Rising', 'Perpetua', 'Maria', 'Opposite', 'Down', 'Commands', 'Frightful', 'Abandon', 'Giovanni', 'Navarre', 'David', 'Volume', 'Finding', 'Guzman', 'Lake', 'Statista', 'Garbugli', 'Hart', 'Pandolfo', 'Pilgrim', 'By', 'Isaiah', 'Friar', 'Marquis', 'Marina', 'Escape', 'Blessed', 'Montanarolo', 'See', 'Followed', 'Porta', 'Illustration', 'January', 'Gonsalez', 'Guided', 'Monza', 'Thoughout', 'Copyright', 'Know', 'Add', 'France', 'Van', 'Can', 'Lorraine', 'Gregorio', 'Governor', 'Marco', 'Material', 'Royalty', 'Carlo', 'Dyck', 'Terranova', 'Tullio', 'Berlinghe', 'August', 'Devil', 'Every', 'Undress', 'Signor', 'Aqui', 'So', 'Agnes', 'Manzoni', 'Reproach', 'Around', 'Savoy', 'Newby', 'Marchese', 'Thus', 'Cumming', 'Vallistai', 'Zaccaria', 'According', 'International', 'Rome', 'Poor', 'Drink', 'Weeds', 'Federigo', 'Critics', 'Suddenly', 'Into', 'Recognising', 'West', 'Afflicted', 'Defects', 'Whoever', 'Colburn', 'Gonzaga', 'Refund', 'New', 'What', 'Which', 'Internet', 'Animo', 'Dress', 'Castiglione', 'Primaluna', 'Tumult', 'Women', 'Mission', 'Since', 'History', 'Reading', 'Author', 'Her', 'Levantese', 'Could', 'Professor', 'Among', 'Valdistano', 'On', 'Sunday', 'Signorina', 'Chamberlain', 'Romans', 'In', 'Bergamascans', 'Converted', 'Principe', 'Weary', 'Gaspero', 'Already', 'Teela', 'Remorse', 'Vainly', 'Continuing', 'Because', 'Sudden', 'Pass', 'Fazio', 'Whether', 'Save', 'Distributed', 'Delivered', 'Plunder', 'Occupied', 'Comfort', 'Was', 'Felice', 'Before', 'Corrupt', 'Besides', 'Approach', 'Rimini', 'Spinola', 'Contact', 'Restless', 'Abbondio', 'Thaddeus', 'Christopher', 'European', 'Spirit', 'Attilio', 'Tis', 'Emperor', 'Governed', 'Hereafter', 'Thebaid', 'Hugo', 'Men', 'Tacitus', 'Release', 'Cursed', 'Swallow', 'Between', 'Usted', 'Accomplish', 'Podest', 'Spurring', 'Towards', 'Library', 'Gently', 'Resolving', 'Bad', 'Behold', 'Chaldee', 'Further', 'Willingly', 'Hosts', 'Seven', 'Chief', 'Note', 'Friends', 'Pierpaolo', 'Jerusalem', 'Antony', 'Preposterous', 'Unable', 'Regnante', 'Well', 'Run', 'Strict', 'Pedro', 'Thou', 'Via', 'All', 'Francesco', 'Bacchus', 'Montferrat', 'London', 'Castello', 'At', 'Milan', 'Giovia', 'Adelante', 'Pentecost', 'Information', 'Farewell', 'Venetians', 'Cheer', 'Numerous', 'Meanwhile', 'Naples', 'Has', 'Finally', 'Fairbanks', 'Easy', 'Assertions', 'Pindus', 'Gera', 'Castelvetrano', 'Relieving', 'Something', 'Hardly', 'Oriental', 'Gertrude', 'Henry', 'Grevino', 'Neither', 'Hush', 'Nassau', 'Soon', 'Fled', 'Po', 'Plague', 'Books', 'Except', 'Up', 'Mad', 'Adieu', 'Marrados', 'Peace', 'Literary', 'Draw', 'Depart', 'Opposed', 'Come', 'Excellency', 'He', 'Armed', 'Ambrose', 'Thence', 'Nibbio', 'Convalescent', 'Melan', 'Pale', 'Muratori', 'Villain', 'Suffer', 'Redistribution', 'North', 'Barberini', 'Constable', 'Borghetto', 'Disturbed', 'Flanders', 'Tribunal', 'Anselmo', 'Listening', 'Begone', 'Doctor', 'Contiguous', 'Those', 'Azzecca', 'But', 'Senate', 'Labouring', 'Girolamo', 'Wretch', 'Overpowerful', 'Eminence', 'Sicily', 'Impossible', 'Juan', 'Jervase', 'Entering', 'Greek', 'Both', 'El', 'Is', 'Diogenes', 'Barsio', 'Approaching', 'English', 'Informing', 'Heaps', 'Dr', 'Notwithstanding', 'Cecilia', 'Nathan', 'Truly', 'Mayence', 'Donna', 'Printed', 'Venga', 'Instead', 'Too', 'Error', 'Misery', 'Beyond', 'City', 'Nevertheless', 'How', 'Would', 'Silence', 'Giuseppe', 'Crowds', 'Now', 'Compassion', 'Lady', 'Ambrosio', 'Endeavour', 'Stefano', 'Directly', 'State', 'Acevedo', 'Perdone', 'Are', 'Put', 'Suolavecchia', 'Others', 'Salt', 'Corsia', 'Virgin', 'Stella', 'Lorenzo', 'Romagna', 'December', 'Holy', 'Psyche', 'Under', 'Alessandro', 'Hynojosa', 'Rhetel', 'Unfeeling', 'Crime', 'Ton', 'Service', 'Roland', 'Learning', 'Donations', 'Richard', 'Sesto', 'Aimwell', 'Wearied', 'Brandenburgh', 'Behave', 'Trust', 'Curate', 'Piasentini', 'Roderick', 'Some', 'Oh', 'Things', 'Cardan', 'Kite', 'Tell', 'Tasso', 'Anxious', 'Promise', 'Gorgonzola', 'Truth', 'Swellings', 'Quiet', 'Jehoshaphat', 'Martin', 'Shut', 'Boccalini', 'Richelieu', 'Language', 'San', 'Spaniard', 'Prudence', 'Metastasio', 'Just', 'Soranzo', 'Pavia', 'Confiding', 'Prassede', 'Disquisitions', 'Despite', 'Galignani', 'Him', 'Eastern', 'Griso', 'Cedant', 'Frederick', 'Ambrosian', 'Cassano', 'Typographical', 'Ripamonti', 'Must', 'Lord', 'Hasten', 'Count', 'Say', 'Strange', 'Agitated', 'Fifteen', 'Englishman', 'Thursday', 'Over', 'February', 'Satisfied', 'Fly', 'Alcabizio', 'Vigny', 'Cabals', 'Reverend', 'Tramaglino', 'Victor', 'Pretty', 'Surely', 'Anzalt', 'Please', 'Menico', 'More', 'Heaven', 'Gracias', 'Me', 'Como', 'King', 'Creating', 'Three', 'Full', 'Holofernes', 'Till', 'Arragon', 'General', 'June', 'Anthony', 'Ferrer', 'Charles', 'Make', 'Amidst', 'Answer', 'Felix', 'Pescheria', 'Similar', 'Transcriber', 'Who', 'Volunteers', 'Stay', 'Does', 'Love', 'Health', 'Salio', 'Bellano', 'Treatises', 'Hebrew', 'Legal', 'Magic', 'Fifteenth', 'Host', 'Canadian', 'Bartholomew', 'Borgo', 'Pshaw', 'Wait', 'Very', 'Nectar', 'Greco', 'Arriving', 'Indeed', 'Cordusio', 'Adam', 'Crucis', 'Vanilla', 'Additional', 'Worthy', 'Each', 'Rochelle', 'Highness', 'Nevers', 'Ed', 'Better', 'Certainly', 'Dolls', 'Libraries', 'Galdino', 'Exactly', 'Gutenberg', 'Valeriano', 'Easily', 'Almighty', 'Hereupon', 'Suza', 'Executive', 'Either', 'Barbara', 'Woe', 'Freas', 'Witout', 'Mantua', 'Europe', 'Command', 'Colico', 'Cesalpino', 'Archimedes', 'If', 'Take', 'Return', 'Back', 'Complete', 'And', 'Forgive', 'Plain', 'Loud', 'Christina', 'License', 'Paris', 'Seek', 'Duchess', 'Team', 'Faith', 'Moon', 'Shuddering', 'Francia', 'Catiline', 'Relate', 'Olivares', 'Moors', 'Replacement', 'Place', 'Excuse', 'Compliments', 'Updated', 'Touch', 'Monte', 'Pareo', 'Gonzalo', 'Betrothed', 'St', 'Pietro', 'Ferdinand', 'Dionigi', 'Keep', 'Always', 'Trezzo', 'Am', 'Velasco', 'Si', 'Bully', 'Lombard', 'Fuentes', 'Away', 'Being', 'Provision', 'Trying', 'Beholding', 'Thinking', 'Suppose', 'Resegone', 'Notre', 'Legend', 'Added', 'Ferrar', 'Settala', 'Through', 'Sansovino', 'Brescia', 'Thank', 'Even', 'Stories', 'Persuaded', 'Achilles', 'Nuova', 'There', 'This', 'Haro', 'Title', 'Their', 'Done', 'Bergamo', 'Endeavouring', 'Catholic', 'Royal', 'Seeing', 'Bione', 'Seizing', 'Bodin', 'To', 'Director', 'Latin', 'Baggiani', 'Maggianico', 'Do', 'Hope', 'Margherita', 'Beso', 'Believe', 'Louis', 'Yesterday', 'Mary', 'Were', 'Macbeth', 'Dublin', 'Contributions', 'Its', 'Marcus', 'Shall', 'Doctors', 'Phantoms', 'Burlington', 'Cruelly', 'Lucy', 'Pescate', 'Courage', 'Ave', 'Beppo', 'Placed', 'Life', 'Other', 'Zeal', 'Rapidly', 'Whilst', 'Internal', 'Fortunately', 'Agreed', 'Slowly', 'Deo', 'Alas', 'Turkey', 'Arabic', 'Banquo', 'Eh', 'Content', 'Ever', 'Behind', 'Medici', 'Taking', 'Enough', 'Sometimes', 'Alessio', 'Italian', 'Hastily', 'Chamber', 'Omnia', 'Decameron', 'Ah', 'Formerly', 'Platonic', 'After', 'Venice', 'Verona', 'Laertius', 'Spanish', 'Carlos', 'Good', 'Bouillon', 'Valtelline', 'Bring', 'Look', 'Disappointment', 'Nay', 'Brutus', 'Shame', 'Ogre', 'These', 'Patri', 'Quitting', 'Rapid', 'Burgeto', 'Archive', 'Adda', 'Nor', 'Brianza', 'Provincial', 'Bortolo', 'Equal', 'Satan', 'High', 'Lend', 'Serve', 'Write', 'Unknown', 'Children', 'Abundance', 'Conscious', 'Signora', 'Seize', 'Bentley', 'Senectus', 'That', 'Renzo', 'Armenian', 'Trilingue', 'Wallenstein', 'Ovid', 'Standard', 'Uttering', 'Console', 'Discussing', 'Stung', 'Switzerland', 'Capitano', 'Florence', 'Gospel', 'Cabins', 'Jupiter', 'Christian', 'Yet', 'Grisons', 'The', 'Emanuela', 'Hence', 'Pardon', 'Impunity', 'Aim', 'Lecco', 'Antonio', 'Biron', 'Paul', 'Galasso', 'Reduced', 'Two', 'Name', 'Toledo', 'Revenue', 'Our', 'Nothing', 'Confused', 'Cousin', 'Listen', 'Pictures', 'Malanotte', 'Holiness', 'Remain', 'Marcellino', 'Carry', 'England', 'Confounded', 'Macario', 'Bonaventura', 'Feria', 'Persons', 'Navarrese', 'Many', 'Redistributing', 'Returning', 'Christians', 'Mercanti', 'Proofreading', 'Balobbio', 'Gonsalvo', 'Illustrious', 'Prince', 'Another', 'Whom', 'Fire', 'Hitherto', 'Insensibly', 'For', 'Online', 'About', 'Rash', 'Ferrera', 'Pray', 'Mercy', 'Had', 'Ludovico', 'Sir', 'Scarcely', 'Don', 'Saints', 'Hallo', 'Aristotle', 'Michele', 'Not', 'Vincenzo', 'Collato', 'Christ', 'Images', 'States', 'Leave', 'Nuovo', 'Project', 'Difficulties', 'Greece', 'Platonas', 'Cura', 'Imagine', 'Tadino', 'Dreadful', 'Bergamascan', 'Providence', 'Instances', 'Email', 'Cardinal', 'Andrea', 'Guastalla', 'Did', 'Delrio', 'March', 'Escaped', 'Overcome', 'Convention', 'Science', 'Weigh', 'Dionysius', 'Flight', 'Casati', 'Eat', 'Will', 'Novels', 'Turning', 'Infanti', 'God', 'Germany', 'Hear', 'Fernandez', 'Madrid', 'Most', 'Argantes', 'Bradfute', 'Edinburgh', 'Cordova', 'Provisions', 'Rocroi', 'Carneades', 'Although', 'Perceiving', 'Pozzobonelli', 'True', 'Archbishop', 'Reali', 'Submit', 'Torquato', 'Really', 'Roman', 'Viceroy', 'Robbers', 'Frenchmen', 'Show', 'Precisely', 'Great', 'Looking', 'Minor', 'Cavalcanti', 'Square', 'Terms', 'Cond', 'Rise', 'Domain', 'November'}\n"
     ]
    }
   ],
   "source": [
    "# let's list all the proper names in the book. This might take a while...\n",
    "allNames = set(proper_names_in(text))\n",
    "print(allNames)\n",
    "# need to make a decision here"
   ]
  },
  {
   "cell_type": "code",
   "execution_count": 24,
   "id": "7a3500c8-ccb6-445a-b4d1-af19cfbe44d3",
   "metadata": {},
   "outputs": [
    {
     "name": "stdout",
     "output_type": "stream",
     "text": [
      "['Abbondio', 'Perpetua', 'Renzo', 'Lucy', 'Agnes', 'Azzecca', 'Christopher, Ludovico', 'Roderick', 'Griso', 'Gertrude', 'Attilio', 'Tony', 'Jervase', 'Ferrer', 'Rivolta', 'Alessio', 'Menico', 'Egidio', 'Nibbio', 'Bortolo', 'Federigo', 'Prassede', 'Ferrante', 'Galdino', 'Unknown', 'Richelieu', 'Beppo', 'Anselmo', 'Gonzalo', 'Gaspero', 'Carlos', 'Margherita']\n"
     ]
    }
   ],
   "source": [
    "#open character list\n",
    "txt_filename = \"./data/CharacterList.txt\"\n",
    "\n",
    "characterList = []\n",
    "with open(txt_filename, \"r\") as input_f:\n",
    "    characterList = input_f.read()\n",
    "\n",
    "#parsing characterlist and counting them\n",
    "mainCharacters = re.split(\"\\n\", characterList)\n",
    "totalCharacters = len(mainCharacters)\n",
    "print(mainCharacters)\n"
   ]
  },
  {
   "cell_type": "code",
   "execution_count": 26,
   "id": "381c1972",
   "metadata": {},
   "outputs": [
    {
     "ename": "SyntaxError",
     "evalue": "invalid syntax (2630598935.py, line 3)",
     "output_type": "error",
     "traceback": [
      "\u001b[1;36m  Input \u001b[1;32mIn [26]\u001b[1;36m\u001b[0m\n\u001b[1;33m    for character in list characterList:\u001b[0m\n\u001b[1;37m                          ^\u001b[0m\n\u001b[1;31mSyntaxError\u001b[0m\u001b[1;31m:\u001b[0m invalid syntax\n"
     ]
    }
   ],
   "source": [
    "#cleans a list of characters\n",
    "def clean_names(characterList, mainCharacters):\n",
    "    for character in list(characterList):\n",
    "        if character not in mainCharacters:\n",
    "            characterList.remove(character)\n",
    "            \n",
    "    \n",
    "#iterate over cleant list and updates matrix (lamest optimization ever)\n",
    "def update_matrix(characterList, mainCharacters, matrix)\n",
    "    for j in range(len(paragraphCharacters)):\n",
    "        currentCharacter = paragraphCharacters[j]\n",
    "\n",
    "#matrix totalCharacters * totalCharacters initialized with all 0s\n",
    "adjacencyMatrix = [[0 for _ in range(totalCharacters)] for _ in range(totalCharacters)]\n",
    "\n",
    "#iterate over paragraphs and get proper names\n",
    "for i in range(len(paragraphs)):\n",
    "    paragraphCharacters = proper_names_in(paragraphs[i])\n",
    "    clean_names(paragraphCharacters, mainCharacters)\n",
    "    \n",
    "    print(paragraphCharacters)\n",
    "    \n",
    "    \n",
    "\n",
    "\n",
    "            \n",
    "    \n",
    "    \n",
    "\n",
    "print(adjacencyMatrix)"
   ]
  },
  {
   "cell_type": "code",
   "execution_count": null,
   "id": "b48d8e2f",
   "metadata": {},
   "outputs": [],
   "source": []
  }
 ],
 "metadata": {
  "kernelspec": {
   "display_name": "Python 3 (ipykernel)",
   "language": "python",
   "name": "python3"
  },
  "language_info": {
   "codemirror_mode": {
    "name": "ipython",
    "version": 3
   },
   "file_extension": ".py",
   "mimetype": "text/x-python",
   "name": "python",
   "nbconvert_exporter": "python",
   "pygments_lexer": "ipython3",
   "version": "3.9.12"
  }
 },
 "nbformat": 4,
 "nbformat_minor": 5
}
