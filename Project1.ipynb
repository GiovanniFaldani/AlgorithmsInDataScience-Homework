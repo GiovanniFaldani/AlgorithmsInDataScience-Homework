{
 "cells": [
  {
   "cell_type": "markdown",
   "id": "aebeaac9-5dbb-4093-bb06-597d616c1819",
   "metadata": {},
   "source": [
    "<font size=5  color=#003366> [LINMA2472] - Algorithms in Data Science <br>\n",
    "Project 1: Networks </font> <br><br>\n",
    "<font size=3  color=#003366>  Students: Iacopo Canetta, Giovanni Faldani\n",
    "<br><br>"
   ]
  },
  {
   "cell_type": "markdown",
   "id": "b8ee9aae-32ac-4e40-89c6-8b8196a232ad",
   "metadata": {},
   "source": [
    "- <font size=4  color=#003366>Task 1: building the co-occurence network of characters </font> <br><br>\n",
    "In this project we'll build a graph network representing the bonds between characters present in the classical novel \"The Betrothed\" by Alessandro Manzoni"
   ]
  },
  {
   "cell_type": "code",
   "execution_count": null,
   "id": "b15380d0-ca44-4edb-83c6-a70993a3c706",
   "metadata": {},
   "outputs": [
    {
     "name": "stderr",
     "output_type": "stream",
     "text": [
      "[nltk_data] Downloading package punkt to\n",
      "[nltk_data]     C:\\Users\\Giovanni\\AppData\\Roaming\\nltk_data...\n",
      "[nltk_data]   Package punkt is already up-to-date!\n"
     ]
    },
    {
     "data": {
      "text/plain": [
       "True"
      ]
     },
     "execution_count": 1,
     "metadata": {},
     "output_type": "execute_result"
    }
   ],
   "source": [
    "# basic imports\n",
    "import numpy as np\n",
    "import pandas as pd # useful dataframe support\n",
    "import scipy as sp\n",
    "from matplotlib import pyplot as plt # plot operations\n",
    "import networkx as nx # useful for network operations\n",
    "import nltk # useful for sentence parsing\n",
    "import re # regular expressions for text parsing and finding proper names\n",
    "nltk.download('punkt')"
   ]
  },
  {
   "cell_type": "code",
   "execution_count": null,
   "id": "53d5071d-f966-4633-9401-bf3cf10c6461",
   "metadata": {},
   "outputs": [
    {
     "name": "stdout",
     "output_type": "stream",
     "text": [
      "The text is composed of 1202 paragraphs!\n",
      "\n",
      "From all that has been said, we may imagine the effect the meeting just\n",
      "described must have had upon the mind of poor Don Abbondio. Those fierce\n",
      "countenances, the threats of a lord who was well known not to speak\n",
      "idly, his plan of quiet life and patient endurance disconcerted in an\n",
      "instant, a difficulty before him from which he saw no possibility of\n",
      "extrication; all these thoughts rushed confusedly through his mind. \"If\n",
      "Renzo could be quietly dismissed with a refusal, all would be well; but\n",
      "he will require reasons--and what can I say to him? he too has a head of\n",
      "his own; a lamb, if not meddled with--but once attempt to cross him----\n",
      "Oh!--and raving after that Lucy, as much enamoured as---- Young idiots!\n",
      "who, for want of something else to do, fall in love, and must be\n",
      "married, forsooth, thinking of nothing else, never concerning themselves\n",
      "about the trouble they bring upon an honest man like me. Wretch that I\n",
      "am! Why should those two scowling faces plant themselves exactly in my\n",
      "path, and pick a quarrel with me? What have I to do in the matter? Is it\n",
      "I that mean to wive? Why did they not rather go and speak---- Ah! truly,\n",
      "that which is to the purpose always occurs to me after the right time:\n",
      "if I had but thought of suggesting to them to go and bear their\n",
      "message----\" But here he was disturbed by the reflection, that to repent\n",
      "of not having been the counsellor and abettor of evil, was too\n",
      "iniquitous a thing; and he therefore turned the rancour of his thoughts\n",
      "against the individual who had thus robbed him of his tranquillity. He\n",
      "did not know Don Roderick, except by sight and by report; his sole\n",
      "intercourse with him had been to touch chin to breast, and the ground\n",
      "with the corner of his hat, the few times he had met him on the road.\n",
      "He had, on more than one occasion, defended the reputation of that\n",
      "Signor against those who, in an under-tone, with sighs and looks raised\n",
      "to heaven, had execrated some one of his exploits. He had declared a\n",
      "hundred times that he was a respectable cavalier. But at this moment he,\n",
      "in his own heart, readily bestowed upon him all those titles to which he\n",
      "would never lend an ear from another. Having, amidst the tumult of these\n",
      "thoughts, reached the entrance of his house, which stood at the end of\n",
      "the little glebe, he unlocked the door, entered, and carefully secured\n",
      "it within. Anxious to find himself in society that he could trust, he\n",
      "called aloud, \"Perpetua, Perpetua,\" advancing towards the little parlour\n",
      "where she was, doubtless, employed in preparing the table for his\n",
      "supper. Perpetua was, as the reader must be aware, the housekeeper of\n",
      "Don Abbondio; an affectionate and faithful domestic, who knew how to\n",
      "obey or command as occasion served; to bear the grumbling and whims of\n",
      "her master at times, and at others to make him bear with hers. These\n",
      "were becoming every day more frequent; she had passed the age of forty\n",
      "in a single state; the consequences, _she_ said, of having refused all\n",
      "the offers that had been made her; her _female friends_ asserted that\n",
      "she had never found any one willing to take her.\n",
      "\n",
      "Paragraph 75 is composed of 19 sentences, 2 dialogues and 31 proper names\n",
      "From all that has been said, we may imagine the effect the meeting just\n",
      "described must have had upon the mind of poor Don Abbondio.\n",
      "If\n",
      "Renzo could be quietly dismissed with a refusal, all would be well; but\n",
      "he will require reasons--and what can I say to him? he too has a head of\n",
      "his own; a lamb, if not meddled with--but once attempt to cross him----\n",
      "Oh!--and raving after that Lucy, as much enamoured as---- Young idiots!\n",
      "who, for want of something else to do, fall in love, and must be\n",
      "married, forsooth, thinking of nothing else, never concerning themselves\n",
      "about the trouble they bring upon an honest man like me. Wretch that I\n",
      "am! Why should those two scowling faces plant themselves exactly in my\n",
      "path, and pick a quarrel with me? What have I to do in the matter? Is it\n",
      "I that mean to wive? Why did they not rather go and speak---- Ah! truly,\n",
      "that which is to the purpose always occurs to me after the right time:\n",
      "if I had but thought of suggesting to them to go and bear their\n",
      "message----\n",
      "From\n"
     ]
    }
   ],
   "source": [
    "# text file parsing\n",
    "txt_filename = \"./data/pg35155.txt\"\n",
    "\n",
    "text = []\n",
    "with open(txt_filename, \"r\") as input_f:\n",
    "    text = input_f.read()\n",
    "\n",
    "# split text by paragraph\n",
    "\n",
    "paragraphs = re.split(\"(?<!\\\")\\n\\n(?<!\\\")\", text)#\\n is the name for skipping to the next line\n",
    "print(\"The text is composed of {} paragraphs!\\n\".format(len(paragraphs)))\n",
    "\n",
    "# extract all individual sentences from a text\n",
    "def sentences_in(text):\n",
    "    sent_detector = nltk.data.load('tokenizers/punkt/english.pickle')\n",
    "\n",
    "    sentences = sent_detector.tokenize(text.strip())\n",
    "    return sentences\n",
    "\n",
    "# extract all the dialogue within quotations in a text\n",
    "def dialogue_in(text):\n",
    "    return re.findall('\"([^\"]*)\"', text)\n",
    "\n",
    "# extract all words beginning with a capital letter in a text\n",
    "def proper_names_in(text):\n",
    "    return re.findall(\"[A-Z][a-z]+\", text)\n",
    "\n",
    "# test with a random paragraph\n",
    "n = 75\n",
    "\n",
    "print(paragraphs[n])\n",
    "dialogues = dialogue_in(paragraphs[n])\n",
    "sentences = sentences_in(paragraphs[n])\n",
    "names = proper_names_in(paragraphs[n])\n",
    "print(\"\\nParagraph {} is composed of {} sentences, {} dialogues and {} proper names\".format(\n",
    "    n, len(sentences), len(dialogues), len(names)))\n",
    "print(sentences[0])\n",
    "print(dialogues[0])\n",
    "print(names[0])"
   ]
  },
  {
   "cell_type": "markdown",
   "id": "5a603f9d-5dbe-4699-bed1-b332a1ae6e12",
   "metadata": {},
   "source": [
    "- As we can see finding the proper names of characters is no easy task, so we decided to rely on an external list of characters to look for matches and build our graph."
   ]
  },
  {
   "cell_type": "code",
   "execution_count": null,
   "id": "999e389e-f24e-4505-8d35-266a612bca62",
   "metadata": {},
   "outputs": [
    {
     "name": "stdout",
     "output_type": "stream",
     "text": [
      "{'Bosca', 'Confiding', 'Ogre', 'Wearied', 'Royal', 'Baggiani', 'Compassion', 'Halt', 'Ferdinand', 'Medici', 'Castiglione', 'Ambrosio', 'Unknown', 'Novels', 'Italian', 'Lucy', 'Hurried', 'Lebanon', 'Colburn', 'Pass', 'Spirit', 'Tosa', 'Fright', 'Convention', 'Redistributing', 'Street', 'Decameron', 'Kite', 'Put', 'Woe', 'Weeds', 'Cross', 'Confounded', 'Christian', 'Title', 'June', 'Isaiah', 'Rivolta', 'Carlotto', 'Drink', 'Stella', 'Malanotte', 'Proofreading', 'Brandenburgh', 'Cedant', 'Down', 'Ave', 'Trust', 'Guastalla', 'Compliments', 'Run', 'Fled', 'Things', 'Him', 'Eight', 'Uttering', 'Dinner', 'Just', 'See', 'Images', 'Overpowerful', 'Lady', 'Rascal', 'Casale', 'Mendoza', 'Ever', 'Ha', 'Reading', 'Signor', 'Cavalcanti', 'Up', 'Archimedes', 'Hasten', 'Spottiswoode', 'Whoever', 'Wait', 'Brianza', 'Gregorio', 'Was', 'Berlinghe', 'Crowds', 'Material', 'Flight', 'Carlos', 'Serve', 'Volume', 'With', 'Willingly', 'Nassau', 'Note', 'Aroused', 'Shop', 'According', 'Teela', 'Host', 'Naples', 'Endeavouring', 'Chancellor', 'Attacked', 'Macario', 'Ludovico', 'By', 'Fiction', 'They', 'Hope', 'Gonsalez', 'Labouring', 'Tumult', 'North', 'Has', 'Arabic', 'Majesty', 'Cortenova', 'Once', 'Bergamo', 'Prison', 'Muratori', 'Had', 'Peace', 'Seek', 'Six', 'God', 'Galasso', 'Enough', 'Valdistano', 'Write', 'Burlington', 'Quitting', 'These', 'Lecco', 'Gertrude', 'Mary', 'Legal', 'While', 'Release', 'Ergo', 'Martha', 'Followed', 'Dame', 'Strict', 'Libraries', 'Pescheria', 'Those', 'Apropos', 'Enter', 'Bring', 'Did', 'Moon', 'Pictures', 'Lucar', 'Hallo', 'Curse', 'Zaccaria', 'Hebrew', 'March', 'Abandoned', 'New', 'Resegone', 'Friar', 'Cabals', 'Weigh', 'Suffer', 'Assertions', 'Say', 'Other', 'Strange', 'Easy', 'Duchess', 'Disappointment', 'Were', 'Such', 'Tormented', 'Returning', 'Haro', 'Hastening', 'Greco', 'Suddenly', 'Gutenberg', 'Equal', 'October', 'Life', 'Intently', 'Commands', 'Lutherans', 'Mayence', 'Submit', 'Figueroa', 'Fernandez', 'Seven', 'Corrupt', 'Alcabizio', 'Soranzo', 'Thanks', 'Montanarolo', 'Senectus', 'Lord', 'Stato', 'Podest', 'Castagneri', 'As', 'Betrothed', 'Europe', 'Whether', 'Hynojosa', 'Adam', 'Roderick', 'Hardly', 'None', 'Historia', 'Archive', 'August', 'Take', 'Nay', 'Botero', 'Exhausted', 'Men', 'State', 'Burgeto', 'Farewell', 'Drawing', 'Original', 'Giustizia', 'Here', 'Turning', 'Si', 'Dyck', 'Accomplish', 'Regnante', 'Rise', 'Politeness', 'Undress', 'About', 'Truly', 'Fire', 'Neither', 'Cruelly', 'Listening', 'Let', 'Dolls', 'Macbeth', 'From', 'Fine', 'Barsio', 'Flanders', 'Pope', 'Over', 'Saint', 'Pshaw', 'Ferrante', 'Bortolo', 'Armed', 'Foundation', 'Tacitus', 'Any', 'Sometimes', 'Chaldee', 'Usted', 'Wretch', 'Is', 'Although', 'Know', 'Perdone', 'Nectar', 'England', 'Betsy', 'Vallistai', 'Assuredly', 'Count', 'Forgive', 'Internal', 'Richard', 'Standard', 'Sesto', 'Verona', 'Promise', 'Gomez', 'Villain', 'Nibbio', 'Perceiving', 'Plain', 'Edinburgh', 'Frenchmen', 'Only', 'Romagna', 'Throughout', 'Barbara', 'Slowly', 'Avoid', 'Ed', 'Treatises', 'Persons', 'Upon', 'Bodin', 'Web', 'Governor', 'Tasso', 'Name', 'Girolamo', 'Cura', 'Seeing', 'Bell', 'Delrio', 'Ambrose', 'Margherita', 'Navarrese', 'Po', 'Believe', 'Magni', 'The', 'Carlo', 'Holla', 'Domain', 'But', 'Milan', 'Imagine', 'Renzo', 'Sicily', 'Christians', 'Salio', 'Hosts', 'In', 'Umph', 'Mad', 'When', 'Levant', 'Friends', 'Frederick', 'Two', 'Despite', 'Escape', 'Approaching', 'Blessed', 'Carry', 'Reproach', 'Robbers', 'Already', 'Canonica', 'Fazio', 'Valtelline', 'Egidio', 'Asi', 'Pietro', 'Beyond', 'Azzecca', 'Quiet', 'Sir', 'Santa', 'Perhaps', 'United', 'Freas', 'Catholic', 'Borghetto', 'Newby', 'Achilles', 'Surely', 'Bellano', 'Bravo', 'Formerly', 'Beholding', 'Because', 'Platonas', 'Public', 'San', 'Torquato', 'Federigo', 'Bowing', 'Considering', 'Gera', 'Content', 'Royalty', 'Gregory', 'Abbondio', 'Suolavecchia', 'Need', 'Reduced', 'Laertius', 'Fusella', 'Pisa', 'Books', 'Thoughout', 'Mingled', 'Amidst', 'Spurring', 'Collato', 'Precisely', 'Overcome', 'Copyright', 'Would', 'Provision', 'Ferrer', 'Swellings', 'Thinking', 'He', 'Language', 'Remain', 'Archbishop', 'Listen', 'Every', 'Guzman', 'Holland', 'Full', 'Forgiveness', 'Email', 'Done', 'Rhetel', 'Abundance', 'January', 'Melan', 'Andrea', 'Contiguous', 'Thaddeus', 'Coming', 'Difficulties', 'Whilst', 'Service', 'Platonic', 'Latin', 'Translated', 'Capitano', 'Novel', 'Pray', 'Bentley', 'Besides', 'Heliogabalus', 'Contact', 'Salt', 'Transcriber', 'Toledo', 'Having', 'Looking', 'Cesalpino', 'Give', 'Yes', 'Catiline', 'Patri', 'Biondino', 'Project', 'Do', 'Adelante', 'Armenian', 'Look', 'Discorsi', 'Primaluna', 'Some', 'After', 'Our', 'Monza', 'Yesterday', 'Ripamonti', 'Donna', 'Diogenes', 'Milanese', 'Highness', 'Added', 'Preposterous', 'Speak', 'Above', 'Brescia', 'Hence', 'More', 'Better', 'Atqui', 'Holding', 'Velasco', 'That', 'During', 'Zachia', 'Scarcely', 'Anxious', 'Heaps', 'Happily', 'Livy', 'Castelvetrano', 'Venetian', 'Lent', 'Viceroy', 'St', 'Her', 'Poor', 'Error', 'Comfort', 'Certainly', 'Successor', 'Henry', 'Hush', 'Casting', 'Science', 'Beppo', 'Company', 'Dress', 'Make', 'Venice', 'Urban', 'Pareo', 'Refund', 'December', 'Eh', 'Menico', 'States', 'Como', 'At', 'Principe', 'You', 'Mantua', 'Naturally', 'Biron', 'Bonaventura', 'Afflicted', 'Touch', 'Ragion', 'Have', 'Admiral', 'Not', 'Should', 'Shame', 'Crucis', 'Valsassina', 'Ask', 'Clothed', 'Unhappy', 'Minor', 'Suppose', 'Well', 'Another', 'Alessandro', 'Pescate', 'Mark', 'Pilgrim', 'Sunday', 'Learn', 'Very', 'Opposite', 'Probably', 'Stung', 'Schenchio', 'Switzerland', 'Lorraine', 'Chiodo', 'Paris', 'Grevino', 'West', 'Bartolo', 'Additional', 'Cousin', 'Anthony', 'Towards', 'Through', 'Am', 'Tis', 'Hastily', 'Many', 'Ton', 'Its', 'Moorish', 'Love', 'Sections', 'Will', 'Meanwhile', 'Often', 'Excepting', 'Clear', 'Guided', 'Acevedo', 'Thursday', 'Mixture', 'Sin', 'Por', 'On', 'Bully', 'Begone', 'King', 'Fifteenth', 'Deo', 'Emperor', 'Relate', 'Accept', 'Your', 'Lodi', 'Born', 'Either', 'Devil', 'Ambrosian', 'Garbugli', 'Even', 'Different', 'Anzalt', 'Cecilia', 'Mississippi', 'Giovia', 'Cardinal', 'Back', 'Marquis', 'Plunder', 'Leaving', 'Agnes', 'Learning', 'Rochelle', 'Il', 'Malatesti', 'Statista', 'Professor', 'Signorina', 'Cupid', 'Felice', 'So', 'Section', 'Giovanni', 'El', 'Pollute', 'Escaped', 'Oriental', 'Return', 'London', 'Except', 'Still', 'Nearly', 'Bergamascan', 'Castelnuovo', 'Rocroi', 'Bacchus', 'Gonzaga', 'Long', 'Away', 'Cut', 'Shut', 'Disturbed', 'Madrid', 'Health', 'Resolving', 'Truth', 'Time', 'Valeriano', 'Gently', 'Montferrat', 'Crutches', 'Receiving', 'Rimini', 'Defect', 'German', 'Must', 'Folly', 'Sudden', 'Both', 'Persian', 'Emanuela', 'Paul', 'Enriquez', 'Revenue', 'Tramaglino', 'Pardon', 'Victor', 'Cabins', 'Between', 'Tuscan', 'Command', 'Open', 'Crime', 'Scylla', 'Then', 'Tullio', 'Reflecting', 'Metastasio', 'Plague', 'Like', 'Hearing', 'Cumming', 'Date', 'Italy', 'Who', 'Bad', 'Oh', 'Griso', 'Tanabuso', 'April', 'Notwithstanding', 'Lara', 'Omnia', 'Holiness', 'Bread', 'Agreed', 'Cordova', 'Does', 'Hear', 'Answer', 'Or', 'Excellency', 'Satan', 'Florence', 'Mercanti', 'Regrets', 'Unable', 'Nuovo', 'Courage', 'This', 'Introbbio', 'Behave', 'Francesco', 'Cheer', 'One', 'Dignity', 'Cond', 'Bartholomew', 'Restless', 'Internet', 'Crr', 'Entering', 'Jervase', 'Pale', 'Charles', 'Soon', 'Bradfute', 'Arriving', 'Plunging', 'Bergamascans', 'Ay', 'Suza', 'Christina', 'Avola', 'Esto', 'Headstrong', 'Near', 'Gorgonzola', 'Cordusio', 'Homer', 'Rapidly', 'Christopher', 'Thank', 'Reaching', 'Which', 'Ovid', 'Since', 'Seizing', 'Special', 'Good', 'Leave', 'Regretting', 'History', 'Behold', 'Anselmo', 'We', 'Francis', 'Dr', 'Volunteers', 'Miserable', 'Contributions', 'Nothing', 'Grisons', 'Prassede', 'Stefano', 'Book', 'Captain', 'Nevers', 'Pedro', 'Me', 'Hannibal', 'General', 'Yet', 'Immediately', 'His', 'Savoy', 'Afterwards', 'Cassano', 'Biffi', 'Draw', 'Borghese', 'Off', 'Bouillon', 'Aqui', 'Doctors', 'For', 'Arrived', 'Shuddering', 'Converted', 'Seize', 'Relieving', 'Sansovino', 'Mercy', 'Spinola', 'Don', 'Under', 'Use', 'Senate', 'Porta', 'Lombardy', 'Brutus', 'Levantese', 'No', 'Unless', 'Mondella', 'Father', 'Reali', 'Canterelli', 'Executive', 'Abandon', 'Please', 'Balobbio', 'Save', 'Suarez', 'Patience', 'Spaniard', 'Infanti', 'Library', 'Nature', 'Can', 'Excuse', 'Clement', 'Frightful', 'Into', 'Lend', 'Within', 'And', 'Defects', 'Indeed', 'Pescarenico', 'Vincenzo', 'Among', 'Guess', 'Francia', 'Act', 'Bless', 'Moors', 'Hang', 'Saints', 'Passing', 'Complete', 'Faith', 'If', 'Console', 'Via', 'Marcus', 'Germany', 'Governed', 'Pasturo', 'Van', 'Author', 'Rash', 'Marrados', 'Videt', 'Eminence', 'Terms', 'Curate', 'Now', 'Signora', 'Satisfied', 'Magic', 'Donations', 'Greece', 'Pandolfo', 'Fly', 'True', 'Wallenstein', 'David', 'Marco', 'Quick', 'Softly', 'Liscate', 'Corsia', 'Critics', 'Chamber', 'English', 'Cursed', 'Remorse', 'Beso', 'Legend', 'Noah', 'Tadino', 'Provisions', 'Duke', 'Canadian', 'Martino', 'Carlandrea', 'Gonzalo', 'Fortunately', 'Agitated', 'Pozzobonelli', 'Englishman', 'Adda', 'Borgo', 'Each', 'Young', 'Silence', 'People', 'Greek', 'Lombard', 'To', 'Tony', 'Zeal', 'Vineyards', 'Approach', 'Manzoni', 'High', 'Provided', 'Could', 'Spanish', 'Fuentes', 'Hereafter', 'French', 'Taking', 'There', 'Aimwell', 'Undoubtedly', 'Servi', 'How', 'Three', 'Opposed', 'Eat', 'Antony', 'Confused', 'Barberini', 'Great', 'Dios', 'Show', 'Women', 'Lower', 'Remember', 'Marcellino', 'Too', 'Psyche', 'Thou', 'Unfortunately', 'Notre', 'Dare', 'Convalescent', 'Online', 'Help', 'France', 'Roland', 'Fairbanks', 'Rising', 'Provincial', 'Trezzo', 'Reverend', 'Think', 'Antonio', 'Always', 'Thus', 'City', 'Insensibly', 'Impossible', 'Louis', 'Night', 'Nathan', 'Antanasio', 'La', 'Informing', 'Similar', 'Christ', 'Redistribution', 'Literary', 'Moreover', 'Jupiter', 'Place', 'Printed', 'Michele', 'Emanuel', 'My', 'Holy', 'Alessio', 'Turkey', 'Typographical', 'Martin', 'Loud', 'Prepare', 'Illustrious', 'Vanilla', 'Vigny', 'Weary', 'Dublin', 'Trilingue', 'Why', 'Placed', 'Gospel', 'Poh', 'Behind', 'Rest', 'College', 'Where', 'Richelieu', 'Occupied', 'Philip', 'Animo', 'Colico', 'Reverence', 'Naviglio', 'Witout', 'It', 'Heaven', 'Depart', 'Distributed', 'An', 'Ferrar', 'Until', 'Cardan', 'Hereupon', 'Jehoshaphat', 'Lorenzo', 'Aristotle', 'European', 'Castello', 'Stay', 'Unfeeling', 'Most', 'Roman', 'All', 'Galdino', 'Jews', 'Compliance', 'Alas', 'Gaspero', 'Venetians', 'Fear', 'Dionigi', 'Pavia', 'Before', 'Hitherto', 'Terranova', 'Gracias', 'Stop', 'Spain', 'First', 'Swear', 'Ferrera', 'Castile', 'Tribunal', 'Right', 'Information', 'Disquisitions', 'Being', 'Aim', 'Supper', 'Charybdis', 'Impunity', 'Tell', 'Venga', 'Que', 'Indian', 'Thebaid', 'Casati', 'Pentecost', 'Trying', 'Of', 'She', 'Something', 'Further', 'Angelo', 'Juan', 'Updated', 'Others', 'Irritated', 'Feria', 'Holofernes', 'Chief', 'Prince', 'Come', 'Bione', 'Till', 'Marchese', 'Banquo', 'February', 'Throw', 'Maria', 'Finding', 'Galignani', 'Go', 'Olivares', 'Adieu', 'Home', 'Almighty', 'Director', 'Permit', 'Prudence', 'Saturn', 'Hart', 'Marina', 'Foreign', 'Argantes', 'Knowing', 'Boccalini', 'Exactly', 'Few', 'Delivered', 'Replacement', 'Hugo', 'Allured', 'International', 'Dionysius', 'Add', 'Carrobio', 'Stories', 'Giuseppe', 'Finally', 'Tragical', 'Swallow', 'Carneades', 'September', 'Nor', 'Last', 'Really', 'Rome', 'Eastern', 'Illustration', 'Their', 'Gentlemen', 'Felix', 'Be', 'Fathers', 'Misery', 'Cowards', 'Are', 'Shall', 'Children', 'Recognising', 'Nuova', 'Rapid', 'License', 'Constable', 'Pierpaolo', 'Gonsalvo', 'Lunghigna', 'Instead', 'Dreadful', 'Attilio', 'Pindus', 'Thence', 'May', 'Recourse', 'Directly', 'Monte', 'Continuing', 'Providence', 'Ah', 'Jerusalem', 'Instances', 'Ho', 'Rascals', 'Persuaded', 'Team', 'Discussing', 'Lake', 'Vainly', 'November', 'However', 'Easily', 'Hold', 'Conscious', 'Mission', 'Perpetua', 'Arragon', 'Making', 'Paradise', 'Doctor', 'Turn', 'Endeavour', 'Fifteen', 'Phantoms', 'Pretty', 'Michael', 'Without', 'Around', 'Rivola', 'Navarre', 'Cheats', 'Worthy', 'What', 'Virgin', 'Keep', 'Square', 'Maggianico', 'Romans', 'Stephano', 'Borromeo', 'Paruta', 'Settala', 'Whom', 'Numerous', 'Nevertheless', 'Creating', 'Chamberlain', 'Piasentini'}\n"
     ]
    }
   ],
   "source": [
    "# let's list all the proper names in the book. This might take a while...\n",
    "allNames = set(proper_names_in(text))\n",
    "print(allNames)\n",
    "# need to make a decision here"
   ]
  },
  {
   "cell_type": "code",
   "execution_count": 10,
   "id": "7a3500c8-ccb6-445a-b4d1-af19cfbe44d3",
   "metadata": {},
   "outputs": [
    {
     "name": "stdout",
     "output_type": "stream",
     "text": [
      "['Abbondio', 'Perpetua', 'Renzo', 'Lucy', 'Agnes', 'Azzecca', 'Christopher, Ludovico', 'Roderick', 'Griso', 'Gertrude', 'Attilio', 'Tony', 'Jervase', 'Ferrer', 'Rivolta', 'Alessio', 'Menico', 'Egidio', 'Nibbio', 'Bortolo', 'Federigo', 'Prassede', 'Ferrante', 'Galdino', 'Unknown', 'Richelieu', 'Beppo', 'Anselmo', 'Gonzalo', 'Gaspero', 'Carlos', 'Margherita']\n",
      "\n",
      " Node associations:  {0: 'Abbondio', 1: 'Perpetua', 2: 'Renzo', 3: 'Lucy', 4: 'Agnes', 5: 'Azzecca', 6: 'Christopher, Ludovico', 7: 'Roderick', 8: 'Griso', 9: 'Gertrude', 10: 'Attilio', 11: 'Tony', 12: 'Jervase', 13: 'Ferrer', 14: 'Rivolta', 15: 'Alessio', 16: 'Menico', 17: 'Egidio', 18: 'Nibbio', 19: 'Bortolo', 20: 'Federigo', 21: 'Prassede', 22: 'Ferrante', 23: 'Galdino', 24: 'Unknown', 25: 'Richelieu', 26: 'Beppo', 27: 'Anselmo', 28: 'Gonzalo', 29: 'Gaspero', 30: 'Carlos', 31: 'Margherita'}\n"
     ]
    }
   ],
   "source": [
    "#open character list\n",
    "txt_filename = \"./data/CharacterList.txt\"\n",
    "\n",
    "characterList = []\n",
    "with open(txt_filename, \"r\") as input_f:\n",
    "    characterList = input_f.read()\n",
    "\n",
    "#parsing characterlist and counting them\n",
    "mainCharacters = re.split(\"\\n\", characterList)\n",
    "totalCharacters = len(mainCharacters)\n",
    "print(mainCharacters)\n",
    "\n",
    "# making dictionary of associations {graph node : character}\n",
    "nodeCharacter = dict()\n",
    "for i in range(len(mainCharacters)):\n",
    "    nodeCharacter[i] = mainCharacters[i]\n",
    "    \n",
    "print(\"\\n Node associations: \", nodeCharacter)"
   ]
  },
  {
   "cell_type": "code",
   "execution_count": null,
   "id": "3d1e5b4d",
   "metadata": {},
   "outputs": [
    {
     "name": "stdout",
     "output_type": "stream",
     "text": [
      "[[0, 35, 30, 31, 27, 1, 0, 15, 2, 0, 1, 4, 3, 1, 0, 0, 1, 0, 0, 0, 0, 1, 0, 0, 23, 0, 1, 1, 1, 0, 1, 0], [35, 0, 10, 14, 17, 0, 0, 5, 2, 0, 1, 8, 4, 0, 0, 0, 3, 0, 0, 0, 0, 1, 0, 0, 7, 0, 1, 1, 0, 0, 1, 0], [30, 10, 0, 107, 64, 4, 0, 27, 2, 1, 3, 12, 7, 8, 3, 3, 4, 0, 0, 6, 0, 4, 2, 1, 1, 0, 0, 0, 3, 0, 0, 0], [31, 14, 107, 0, 87, 3, 0, 28, 6, 4, 4, 8, 5, 1, 2, 3, 3, 2, 6, 3, 0, 13, 6, 3, 21, 0, 0, 0, 0, 0, 0, 0], [27, 17, 64, 87, 0, 2, 0, 14, 5, 0, 2, 5, 3, 1, 2, 2, 5, 0, 0, 3, 0, 6, 5, 4, 8, 0, 1, 1, 0, 0, 0, 0], [1, 0, 4, 3, 2, 0, 0, 2, 0, 0, 1, 0, 0, 0, 0, 0, 0, 0, 0, 0, 0, 0, 0, 0, 0, 0, 0, 0, 0, 0, 0, 0], [0, 0, 0, 0, 0, 0, 0, 0, 0, 0, 0, 0, 0, 0, 0, 0, 0, 0, 0, 0, 0, 0, 0, 0, 0, 0, 0, 0, 0, 0, 0, 0], [15, 5, 27, 28, 14, 2, 0, 0, 18, 0, 20, 1, 1, 1, 1, 0, 2, 2, 3, 1, 1, 0, 2, 1, 8, 1, 0, 0, 0, 0, 0, 0], [2, 2, 2, 6, 5, 0, 0, 18, 0, 0, 5, 1, 1, 0, 0, 0, 2, 0, 0, 0, 0, 0, 0, 0, 2, 0, 0, 0, 0, 0, 0, 0], [0, 0, 1, 4, 0, 0, 0, 0, 0, 0, 0, 0, 0, 0, 0, 0, 0, 2, 1, 0, 0, 0, 0, 0, 0, 0, 0, 0, 0, 0, 0, 0], [1, 1, 3, 4, 2, 1, 0, 20, 5, 0, 0, 1, 1, 0, 0, 0, 1, 0, 0, 0, 0, 0, 0, 1, 0, 1, 0, 0, 0, 0, 0, 0], [4, 8, 12, 8, 5, 0, 0, 1, 1, 0, 1, 0, 8, 0, 0, 0, 1, 0, 0, 0, 0, 0, 0, 0, 0, 0, 0, 0, 0, 0, 1, 0], [3, 4, 7, 5, 3, 0, 0, 1, 1, 0, 1, 8, 0, 0, 0, 0, 1, 0, 0, 0, 0, 0, 0, 0, 0, 0, 0, 0, 0, 0, 0, 0], [1, 0, 8, 1, 1, 0, 0, 1, 0, 0, 0, 0, 0, 0, 0, 0, 0, 0, 0, 0, 0, 0, 0, 0, 0, 0, 0, 0, 2, 0, 0, 0], [0, 0, 3, 2, 2, 0, 0, 1, 0, 0, 0, 0, 0, 0, 0, 1, 0, 0, 0, 2, 0, 0, 0, 0, 0, 0, 0, 0, 0, 0, 0, 0], [0, 0, 3, 3, 2, 0, 0, 0, 0, 0, 0, 0, 0, 0, 1, 0, 0, 0, 0, 0, 0, 0, 0, 0, 0, 0, 0, 0, 0, 0, 0, 0], [1, 3, 4, 3, 5, 0, 0, 2, 2, 0, 1, 1, 1, 0, 0, 0, 0, 0, 0, 0, 0, 0, 0, 0, 0, 0, 0, 0, 0, 0, 0, 0], [0, 0, 0, 2, 0, 0, 0, 2, 0, 2, 0, 0, 0, 0, 0, 0, 0, 0, 3, 0, 0, 0, 0, 0, 2, 0, 0, 0, 0, 0, 0, 0], [0, 0, 0, 6, 0, 0, 0, 3, 0, 1, 0, 0, 0, 0, 0, 0, 0, 3, 0, 0, 0, 0, 0, 0, 2, 0, 0, 0, 0, 0, 0, 0], [0, 0, 6, 3, 3, 0, 0, 1, 0, 0, 0, 0, 0, 0, 2, 0, 0, 0, 0, 0, 0, 0, 0, 0, 0, 0, 0, 0, 0, 0, 0, 0], [0, 0, 0, 0, 0, 0, 0, 1, 0, 0, 0, 0, 0, 0, 0, 0, 0, 0, 0, 0, 0, 0, 0, 0, 0, 0, 0, 0, 0, 0, 0, 0], [1, 1, 4, 13, 6, 0, 0, 0, 0, 0, 0, 0, 0, 0, 0, 0, 0, 0, 0, 0, 0, 0, 5, 0, 0, 0, 0, 0, 0, 0, 0, 0], [0, 0, 2, 6, 5, 0, 0, 2, 0, 0, 0, 0, 0, 0, 0, 0, 0, 0, 0, 0, 0, 5, 0, 0, 0, 1, 0, 0, 1, 0, 2, 1], [0, 0, 1, 3, 4, 0, 0, 1, 0, 0, 1, 0, 0, 0, 0, 0, 0, 0, 0, 0, 0, 0, 0, 0, 0, 0, 0, 0, 0, 0, 0, 0], [23, 7, 1, 21, 8, 0, 0, 8, 2, 0, 0, 0, 0, 0, 0, 0, 0, 2, 2, 0, 0, 0, 0, 0, 0, 0, 0, 0, 0, 0, 0, 0], [0, 0, 0, 0, 0, 0, 0, 1, 0, 0, 1, 0, 0, 0, 0, 0, 0, 0, 0, 0, 0, 0, 1, 0, 0, 0, 0, 0, 1, 0, 1, 0], [1, 1, 0, 0, 1, 0, 0, 0, 0, 0, 0, 0, 0, 0, 0, 0, 0, 0, 0, 0, 0, 0, 0, 0, 0, 0, 0, 1, 0, 0, 0, 0], [1, 1, 0, 0, 1, 0, 0, 0, 0, 0, 0, 0, 0, 0, 0, 0, 0, 0, 0, 0, 0, 0, 0, 0, 0, 0, 1, 0, 0, 0, 0, 0], [1, 0, 3, 0, 0, 0, 0, 0, 0, 0, 0, 0, 0, 2, 0, 0, 0, 0, 0, 0, 0, 0, 1, 0, 0, 1, 0, 0, 0, 0, 2, 1], [0, 0, 0, 0, 0, 0, 0, 0, 0, 0, 0, 0, 0, 0, 0, 0, 0, 0, 0, 0, 0, 0, 0, 0, 0, 0, 0, 0, 0, 0, 0, 0], [1, 1, 0, 0, 0, 0, 0, 0, 0, 0, 0, 1, 0, 0, 0, 0, 0, 0, 0, 0, 0, 0, 2, 0, 0, 1, 0, 0, 2, 0, 0, 1], [0, 0, 0, 0, 0, 0, 0, 0, 0, 0, 0, 0, 0, 0, 0, 0, 0, 0, 0, 0, 0, 0, 1, 0, 0, 0, 0, 0, 1, 0, 1, 0]]\n"
     ]
    }
   ],
   "source": [
    "#cleans a list of characters !!!TODO eliminate duplicates\n",
    "def clean_names(characterList, mainCharacters):\n",
    "    for character in list(characterList):\n",
    "        if character not in mainCharacters:\n",
    "            characterList.remove(character)\n",
    "            \n",
    "    \n",
    "#iterate over cleant list and updates matrix (lamest optimization ever)\n",
    "def update_matrix(characterList, mainCharacters, matrix):\n",
    "    if len(characterList) < 2:\n",
    "        return\n",
    "    \n",
    "    for i in range(len(characterList)):\n",
    "        currentCharacterIndex = mainCharacters.index(characterList[i])\n",
    "        for j in range(len(characterList) - i - 1):\n",
    "            secondCharacterIndex = mainCharacters.index(characterList[j + i + 1])\n",
    "            matrix[currentCharacterIndex][secondCharacterIndex] += 1;\n",
    "            matrix[secondCharacterIndex][currentCharacterIndex] += 1;\n",
    "            \n",
    "            \n",
    "\n",
    "#matrix totalCharacters * totalCharacters initialized with all 0s\n",
    "adjacencyMatrix = [[0 for _ in range(totalCharacters)] for _ in range(totalCharacters)]\n",
    "\n",
    "#iterate over paragraphs and get proper names\n",
    "for i in range(len(paragraphs)):\n",
    "    paragraphCharacters = proper_names_in(paragraphs[i])\n",
    "    paragraphCharacters = list( dict.fromkeys(paragraphCharacters))\n",
    "    clean_names(paragraphCharacters, mainCharacters)\n",
    "    update_matrix(paragraphCharacters, mainCharacters, adjacencyMatrix)\n",
    "    \n",
    "print(adjacencyMatrix)\n",
    "\n",
    "\n",
    "    \n",
    "    \n",
    "\n",
    "\n",
    "            \n",
    "    \n",
    "    \n",
    "\n",
    "#print(adjacencyMatrix)"
   ]
  },
  {
   "cell_type": "markdown",
   "id": "b42ff8a1-1b29-48f4-8edd-17273f3e574c",
   "metadata": {},
   "source": [
    "- Making the graph"
   ]
  },
  {
   "cell_type": "code",
   "execution_count": 13,
   "id": "3e76bf87-ab1f-429a-a399-047930d67222",
   "metadata": {},
   "outputs": [
    {
     "name": "stderr",
     "output_type": "stream",
     "text": [
      "C:\\Users\\Giovanni\\AppData\\Local\\Temp\\ipykernel_13188\\3363564176.py:16: DeprecationWarning: info is deprecated and will be removed in version 3.0.\n",
      "\n",
      "  print(nx.info(G))\n"
     ]
    },
    {
     "name": "stdout",
     "output_type": "stream",
     "text": [
      "Graph with 32 nodes and 137 edges\n"
     ]
    },
    {
     "data": {
      "image/png": "[encoded data removed]",
      "text/plain": [
       "<Figure size 432x288 with 1 Axes>"
      ]
     },
     "metadata": {},
     "output_type": "display_data"
    }
   ],
   "source": [
    "G = nx.Graph()\n",
    "\n",
    "# add one node per character\n",
    "for i in range(len(mainCharacters)):\n",
    "    G.add_node(i, size = 1)\n",
    "    \n",
    "# add the edges from the adjacency matrix (avoid duplicates)\n",
    "\n",
    "for i in range(len(adjacencyMatrix)-1):\n",
    "    for j in range(i+1, len(adjacencyMatrix[0])):\n",
    "        if adjacencyMatrix[i][j] != 0 :\n",
    "            G.add_edge(i,j, weight = adjacencyMatrix[i][j])\n",
    "    \n",
    "    \n",
    "    \n",
    "print(nx.info(G))\n",
    "print(G.nodes[0][\"\"])\n",
    "\n",
    "def print_graph(G):\n",
    "    g_draw = G\n",
    "\n",
    "    fig = plt.figure(figsize=(6,4))\n",
    "\n",
    "    pos = nx.spring_layout(g_draw)\n",
    "    nx.draw(g_draw, pos, node_color='black', node_size=10, width=0.5)\n",
    "    plt.show()\n",
    "    \n",
    "print_graph(G)"
   ]
  },
  {
   "cell_type": "code",
   "execution_count": null,
   "id": "05904fe7-c6ab-4a85-9874-3dc078b42f5f",
   "metadata": {},
   "outputs": [],
   "source": []
  }
 ],
 "metadata": {
  "kernelspec": {
   "display_name": "Python 3 (ipykernel)",
   "language": "python",
   "name": "python3"
  },
  "language_info": {
   "codemirror_mode": {
    "name": "ipython",
    "version": 3
   },
   "file_extension": ".py",
   "mimetype": "text/x-python",
   "name": "python",
   "nbconvert_exporter": "python",
   "pygments_lexer": "ipython3",
   "version": "3.8.8"
  }
 },
 "nbformat": 4,
 "nbformat_minor": 5
}
