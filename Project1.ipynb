{
 "cells": [
  {
   "cell_type": "markdown",
   "id": "aebeaac9-5dbb-4093-bb06-597d616c1819",
   "metadata": {},
   "source": [
    "<font size=5  color=#003366> [LINMA2472] - Algorithms in Data Science <br>\n",
    "Project 1: Networks </font> <br><br>\n",
    "<font size=3  color=#003366>  Students: Iacopo Canetta, Giovanni Faldani\n",
    "<br><br>"
   ]
  },
  {
   "cell_type": "markdown",
   "id": "b8ee9aae-32ac-4e40-89c6-8b8196a232ad",
   "metadata": {},
   "source": [
    "- <font size=4  color=#003366>Task 1: building the co-occurence network of characters </font> <br><br>\n",
    "In this project we'll build a graph network representing the bonds between characters present in the classical novel \"Treasure Island\" by Robert Louis Stevenson"
   ]
  },
  {
   "cell_type": "code",
   "execution_count": null,
   "id": "b15380d0-ca44-4edb-83c6-a70993a3c706",
   "metadata": {},
   "outputs": [],
   "source": []
  }
 ],
 "metadata": {
  "kernelspec": {
   "display_name": "Python 3 (ipykernel)",
   "language": "python",
   "name": "python3"
  },
  "language_info": {
   "codemirror_mode": {
    "name": "ipython",
    "version": 3
   },
   "file_extension": ".py",
   "mimetype": "text/x-python",
   "name": "python",
   "nbconvert_exporter": "python",
   "pygments_lexer": "ipython3",
   "version": "3.8.8"
  }
 },
 "nbformat": 4,
 "nbformat_minor": 5
}
