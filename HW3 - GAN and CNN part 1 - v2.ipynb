{
 "cells": [
  {
   "cell_type": "markdown",
   "id": "threaded-livestock",
   "metadata": {},
   "source": [
    "\n",
    "# LINMA2472 - Algorithms in Data Science\n",
    "# Homework 3: GAN and CNN to conquer MNIST\n",
    "# Part 1: Implementation\n",
    "Bastien Massion - bastien.massion@uclouvain.be\n",
    "\n",
    "09 November 2022"
   ]
  },
  {
   "cell_type": "markdown",
   "id": "under-opinion",
   "metadata": {},
   "source": [
    "## Guidelines\n",
    "This homework is done in Python, using the PyTorch library for neural networks. \n",
    "\n",
    "The homework is divided in 2 parts, this Notebook is the assignment for part 1. The second part will become available next week. The goal of the homework is to use a GAN for generating handwritten numbers (and letters) and a CNN to classify them. This first part is dedicated to the implementation, the second part will focus on analyzing and using the neural networks.\n",
    "\n",
    "The exact instructions for the report will come with the second part. However, every task asked in this Notebook will be useful, so get ahead!\n",
    "\n",
    "As for the previous homeworks, you are making groups of 3, in the Moodle activity \"Group choice for assignment 3\".\n",
    "\n",
    "The deadline for the whole homework is: 30 November 2022, 23:59.\n",
    "\n",
    "Your questions should be posted on the dedicated Moodle \"Class forum\" or sent directly to the mail address: bastien.massion@uclouvain.be."
   ]
  },
  {
   "cell_type": "markdown",
   "id": "democratic-metabolism",
   "metadata": {},
   "source": [
    "## Introduction\n",
    "Since their introduction in 2014 by Goodfellow et al., Generative Adversarial Networks (GAN) have taken a predominant place in the deep learning landscape. GANs are deep neural networks composed of two parts: a generator and a discriminator. Those two parts are trained as opponents (hence \"adversarial\"): from the dataset, the generator tries to create new fake data that can fool the discriminator into thinking they are real, while the discriminator tries to distinguish between true and fake data. Often, the most interesting part of this model is the generator, therefore we often refer to GANs as generative models (even if they are also discriminative models). This generative property is used in a lot of applications: mainly for image processing task (style transfer, segmentation, face generation, image inpainting, deblurring, super-resolution,...), but also for natural language processing tasks (text summarization, text generation,...), for music generation or even for medical tasks (tumor detection).\n",
    "\n",
    "Another powerful architecture is Convolutional Neural Networks (CNN). CNNs naturally exploit invariances that are present in data (such that translation in images) in order, for example, to classify them. This is done by applying successive convolutions on data in order to extract the main features. Together with the backpropagation algorithm, the invention of CNN marked the revival of neural networks and deep learning in the 90's. Since then, they have found plenty of applications, mostly in image processing tasks.\n",
    "\n",
    "The goal of this homework in two parts is to implement your first GAN as well as your first CNN, to explore some properties and finally to combine them in order to generate what you desire."
   ]
  },
  {
   "cell_type": "markdown",
   "id": "explicit-combining",
   "metadata": {},
   "source": [
    "## Packages import\n",
    "You will need several packages in order to successfully build, train and use your neural networks. \n",
    "\n",
    "The following packages are necessary and should not be removed. However, if you want to add other packages for your figures, for timing or whatever, feel free to do so."
   ]
  },
  {
   "cell_type": "code",
   "execution_count": 1,
   "id": "sought-statistics",
   "metadata": {},
   "outputs": [],
   "source": [
    "# PyTorch is a common library for neural networks in Python. torch.nn is a module for building layers of Neural Networks.\n",
    "import torch\n",
    "from torch import nn\n",
    "import torch.nn.functional as F\n",
    "\n",
    "# TorchVision is part of the PyTorch environment. It is necessary to download the datasets MNIST (and EMNIST Letters)\n",
    "import torchvision\n",
    "import torchvision.transforms as transforms\n",
    "\n",
    "# Usual mathematical stuff\n",
    "import numpy as np\n",
    "import math\n",
    "\n",
    "# Plots\n",
    "import matplotlib.pyplot as plt\n",
    "\n",
    "# Timing\n",
    "import time\n",
    "from datetime import datetime"
   ]
  },
  {
   "cell_type": "markdown",
   "id": "urban-entry",
   "metadata": {},
   "source": [
    "## Resources\n",
    "Training neural networks is really expensive, especially if your networks are large. It is thus important to look for the most suited computing and storing resources.\n",
    "\n",
    "In practice, parallelisation of computations can speed up the process a lot, by several orders of magnitude. In particular, computing on a GPU (Graphics Processing Unit), which has up to hundreds of cores, will be much faster than on your usual laptop CPU (Central Processing Unit), typically with less than 8 cores. \n",
    "\n",
    "Therefore, it is useful to search for the maximum available computing power.\n",
    "\n",
    "Be reassured, this homework is doable on your standard laptop CPU.\n",
    "\n",
    "But, if you want or need better equipments for this project, there are some solutions."
   ]
  },
  {
   "cell_type": "markdown",
   "id": "grand-atlantic",
   "metadata": {},
   "source": [
    "### What is available?\n",
    "The function chooseDevice automatically checks if there is a GPU available. If there is one, computations will be done there. Simply be careful of adding \".to(device=device)\" everywhere it will be needed in the rest of the code. Otherwise, computations will be done on CPU.\n",
    "\n",
    "There should be no need to modify the function chooseDevice."
   ]
  },
  {
   "cell_type": "code",
   "execution_count": 2,
   "id": "strong-amino",
   "metadata": {},
   "outputs": [],
   "source": [
    "# Check if GPU is available\n",
    "\n",
    "def chooseDevice():\n",
    "    device = \"\"\n",
    "    if torch.cuda.is_available():\n",
    "        device = torch.device(\"cuda\")\n",
    "        print(\"GPU available via cuda\")\n",
    "    else:\n",
    "        device = torch.device(\"cpu\")\n",
    "        print(\"GPU not available, CPU available\")\n",
    "    return device"
   ]
  },
  {
   "cell_type": "code",
   "execution_count": 3,
   "id": "brave-manner",
   "metadata": {},
   "outputs": [
    {
     "name": "stdout",
     "output_type": "stream",
     "text": [
      "GPU not available, CPU available\n"
     ]
    }
   ],
   "source": [
    "device = chooseDevice()"
   ]
  },
  {
   "cell_type": "markdown",
   "id": "careful-disposal",
   "metadata": {},
   "source": [
    "### I need more power: Google Colab\n",
    "If you need or want more computing power, you can use Google Colab. Colab is a free and easy to use service from Google, where you can borrow their efficient resources. Often, GPU are not available (reserved in priority for people with paying subscriptions), but their CPU's are probably better than yours. You just need a Google account in order to run code online. Note that it works with Jupyter Notebooks, which is nice. \n",
    "\n",
    "If, despite this, you are not satisfied, feel free to contact Bastien Massion."
   ]
  },
  {
   "cell_type": "markdown",
   "id": "impaired-causing",
   "metadata": {},
   "source": [
    "## Set random seed\n",
    "Setting the seed for the generation of random numbers is not necessary, but can be useful for keeping consistency in your experiments."
   ]
  },
  {
   "cell_type": "code",
   "execution_count": 4,
   "id": "incident-prevention",
   "metadata": {},
   "outputs": [],
   "source": [
    "_ = torch.manual_seed(2472) #The number 2472 represents the random seed used to initialize \n",
    "                            #the random number generator, which is used to initialize the neural network’s weights. "
   ]
  },
  {
   "cell_type": "markdown",
   "id": "technical-anatomy",
   "metadata": {},
   "source": [
    "## Datasets\n",
    "Two datasets are proposed. \n",
    "\n",
    "First, the classical MNIST set. MNIST is mandatory and sufficient to complete the whole homework. It contains a total of 70 000 handwritten digits (60 000 train, 10 000 test) from 10 balanced classes (one for each digit). You have already worked with it in the HW2.\n",
    "\n",
    "Then, the EMNIST Letters set. This second dataset is larger (more data and more classes) and optional, but could be used to create more impressive results. It contains a total of 145 600 handwritten letters (124 800 train, 20 800 test) from 26 balanced classes (one for each latin letter, lowercase and uppercase mixed). For your information, EMNIST (Extended MNIST) contains several varations and extensions of MNIST."
   ]
  },
  {
   "cell_type": "markdown",
   "id": "mathematical-census",
   "metadata": {},
   "source": [
    "### Load dataset\n",
    "The datasets are loaded from the module torchvision.\n",
    "\n",
    "There should be no need to modify the function getData."
   ]
  },
  {
   "cell_type": "code",
   "execution_count": 5,
   "id": "wooden-costume",
   "metadata": {},
   "outputs": [],
   "source": [
    "# Extracts the train and test sets from a chosen image dataset\n",
    "# Values of pixels are normalized between -1 and 1\n",
    "\n",
    "def getData(dataset = \"MNIST\", info = True):\n",
    "    if dataset == \"MNIST\":\n",
    "        transform = transforms.Compose([transforms.ToTensor(), transforms.Normalize((0.5,), (0.5,))])\n",
    "        train_set = torchvision.datasets.MNIST(root=\".\", train=True, download=True, transform=transform)\n",
    "        test_set = torchvision.datasets.MNIST(root=\".\", train=False, download=True, transform=transform)\n",
    "    elif dataset == \"EMNIST_Letters\":\n",
    "        transform = transforms.Compose([transforms.ToTensor(), transforms.Normalize((0.5,), (0.5,))])\n",
    "        train_set = torchvision.datasets.EMNIST(root=\".\", split=\"letters\", train=True, download=True, transform=transform)\n",
    "        test_set = torchvision.datasets.EMNIST(root=\".\", split=\"letters\", train=False, download=True, transform=transform)\n",
    "    else:\n",
    "        print(\"DATASET NOT CORRECTLY DEFINED\")\n",
    "    if info:\n",
    "        print(train_set)\n",
    "        print(test_set)\n",
    "    return train_set, test_set"
   ]
  },
  {
   "cell_type": "code",
   "execution_count": 6,
   "id": "encouraging-ministry",
   "metadata": {},
   "outputs": [
    {
     "name": "stdout",
     "output_type": "stream",
     "text": [
      "Dataset MNIST\n",
      "    Number of datapoints: 60000\n",
      "    Root location: .\n",
      "    Split: Train\n",
      "    StandardTransform\n",
      "Transform: Compose(\n",
      "               ToTensor()\n",
      "               Normalize(mean=(0.5,), std=(0.5,))\n",
      "           )\n",
      "Dataset MNIST\n",
      "    Number of datapoints: 10000\n",
      "    Root location: .\n",
      "    Split: Test\n",
      "    StandardTransform\n",
      "Transform: Compose(\n",
      "               ToTensor()\n",
      "               Normalize(mean=(0.5,), std=(0.5,))\n",
      "           )\n"
     ]
    }
   ],
   "source": [
    "# Choose which dataset to use\n",
    "\n",
    "dataset = \"MNIST\"\n",
    "#dataset = \"EMNIST_Letters\"\n",
    "\n",
    "train_set, test_set = getData(dataset = dataset)"
   ]
  },
  {
   "cell_type": "markdown",
   "id": "unlikely-approach",
   "metadata": {},
   "source": [
    "### Get size of dataset\n",
    "This function is just there to extract useful information about the (relative) sizes of the train and test sets.\n",
    "\n",
    "There should be no need to modify the function dataSize."
   ]
  },
  {
   "cell_type": "code",
   "execution_count": 7,
   "id": "southeast-chemistry",
   "metadata": {},
   "outputs": [],
   "source": [
    "# Get information about the size of the train and test sets.\n",
    "\n",
    "def dataSize(train_set, test_set):\n",
    "    n_train_set = train_set.__len__()\n",
    "    n_test_set = test_set.__len__()\n",
    "    n_tot = n_train_set + n_test_set\n",
    "    ratio_train_test = n_train_set / n_test_set\n",
    "    percentage_train = n_train_set / n_tot\n",
    "    percentage_test = 1.0 - percentage_train\n",
    "    return n_train_set, n_test_set, n_tot, ratio_train_test, percentage_train, percentage_test"
   ]
  },
  {
   "cell_type": "code",
   "execution_count": 8,
   "id": "settled-turkish",
   "metadata": {},
   "outputs": [],
   "source": [
    "n_train_set, n_test_set, n_tot, ratio_train_test, percentage_train, percentage_test = dataSize(train_set, test_set)"
   ]
  },
  {
   "cell_type": "code",
   "execution_count": 9,
   "id": "1c811f18",
   "metadata": {},
   "outputs": [
    {
     "name": "stdout",
     "output_type": "stream",
     "text": [
      "60000 10000 70000 6.0 0.8571428571428571 0.1428571428571429\n"
     ]
    }
   ],
   "source": [
    "print(n_train_set, n_test_set, n_tot, ratio_train_test, percentage_train, percentage_test)"
   ]
  },
  {
   "cell_type": "markdown",
   "id": "tropical-shakespeare",
   "metadata": {},
   "source": [
    "### Divide dataset into batches\n",
    "Computing the whole gradient for neural networks is too heavy, as it requires information about the whole dataset. Thus, we use (Mini-)Batch Gradient Descent. This is a variant of Stochastic Gradient Descent (SGD) in which we compute the gradient only for a small number of data, gathered in a batch. Typically, the batch size is orders of magnitude smaller than the whole dataset.\n",
    "\n",
    "The function divideInBatches splits the dataset and loads the data.\n",
    "\n",
    "You can modify the value of parameter batch_size as you wish.\n",
    "\n",
    "There should be no need to modify the function divideInBatches."
   ]
  },
  {
   "cell_type": "code",
   "execution_count": 10,
   "id": "still-conditioning",
   "metadata": {},
   "outputs": [],
   "source": [
    "# Paramater for the batch size\n",
    "# Predefined value = 32\n",
    "\n",
    "batch_size = 32"
   ]
  },
  {
   "cell_type": "code",
   "execution_count": 11,
   "id": "juvenile-black",
   "metadata": {},
   "outputs": [],
   "source": [
    "# Divide dataset into batches\n",
    "\n",
    "def divideInBatches(train_set, test_set, batch_size, n_train_set, n_test_set):\n",
    "    # Train set\n",
    "    n_batches_total = math.ceil(n_train_set/batch_size)#method rounds a number UP to the nearest integer, if necessary, and returns the result.\n",
    "    train_loader = torch.utils.data.DataLoader(train_set, batch_size=batch_size, shuffle=True)\n",
    "    \n",
    "    # Test set\n",
    "    n_batches_total_test = math.ceil(n_test_set/batch_size)\n",
    "    test_loader = torch.utils.data.DataLoader(test_set, batch_size=batch_size, shuffle=True)\n",
    "    \n",
    "    return train_loader, test_loader, n_batches_total, n_batches_total_test"
   ]
  },
  {
   "cell_type": "code",
   "execution_count": 12,
   "id": "indie-medicare",
   "metadata": {},
   "outputs": [],
   "source": [
    "train_loader, test_loader, n_batches_total, n_batches_total_test = divideInBatches(train_set, test_set, batch_size, n_train_set, n_test_set)"
   ]
  },
  {
   "cell_type": "code",
   "execution_count": 13,
   "id": "c33323d3",
   "metadata": {},
   "outputs": [],
   "source": [
    "#Here, you create a data loader called train_loader, which will shuffle the data from train_set \n",
    "#and return batches of 32 samples that you’ll use to train the neural networks.\n",
    "#the same process is done for the test set"
   ]
  },
  {
   "cell_type": "markdown",
   "id": "human-stopping",
   "metadata": {},
   "source": [
    "### Correct EMNIST Letters data\n",
    "While the MNIST dataset is ready to be used, the EMNIST Letters data need to be slighty modified before use.\n",
    "\n",
    "On the one hand, the x and y axes of the images are flipped, which is unpractical for the visualization.\n",
    "\n",
    "On the other hand, the letters labels go from 1 to 26 (corresponding with their place in the alphabet) instead of from 0 to 25. This could be problematic and is better fixed directly.\n",
    "\n",
    "Therefore, every time a batch is loaded, it should go through a little correcting function first.\n",
    "\n",
    "There should be no need to modify the function correctData."
   ]
  },
  {
   "cell_type": "code",
   "execution_count": 14,
   "id": "signal-threat",
   "metadata": {},
   "outputs": [],
   "source": [
    "# Corrects EMNIST Letters data\n",
    "\n",
    "def correctData(real_samples, mnist_labels, dataset):\n",
    "    if dataset == \"EMNIST_Letters\":\n",
    "        real_samples = torch.transpose(real_samples,2,3)\n",
    "        mnist_labels -= 1\n",
    "    return real_samples, mnist_labels"
   ]
  },
  {
   "cell_type": "code",
   "execution_count": 15,
   "id": "palestinian-interim",
   "metadata": {},
   "outputs": [],
   "source": [
    "real_samples, mnist_labels = next(iter(train_loader))\n",
    "real_samples, mnist_labels = correctData(real_samples, mnist_labels, dataset)"
   ]
  },
  {
   "cell_type": "markdown",
   "id": "committed-collector",
   "metadata": {},
   "source": [
    "## Show images\n",
    "During the whole homework, it will be important to show samples, either from the dataset, either ones your generate. Here is just a function that can help you visualizing and avoiding losing any plot that you once created. \n",
    "\n",
    "The function showImages allows to represent up to 16 images. You can precise if they are generated by your generator or not (i.e. coming from the dataset). You can also show the true labels for original images and the predicted labels if you use your classifier.\n",
    "\n",
    "The created figures are stored in the folder that you should create : ./Figures. The figures are stored with a predifined name depending on the (date)time. \n",
    "\n",
    "You can of course modify this function as you wish."
   ]
  },
  {
   "cell_type": "code",
   "execution_count": 16,
   "id": "saved-trance",
   "metadata": {},
   "outputs": [],
   "source": [
    "# Plot digits or letters\n",
    "\n",
    "def showImages(samples, true_labels = None, predicted_labels = None, generated = False, predicted = False, epoch = None):\n",
    "    \n",
    "    if generated == True and predicted == True:\n",
    "        plt.close(\"Generated predicted samples\")\n",
    "        f = plt.figure(\"Generated predicted samples\", figsize = (20,15))\n",
    "        f.suptitle(\"Generated predicted samples\", fontsize = 30)\n",
    "    elif generated == True and predicted == False :\n",
    "        if epoch != None:\n",
    "            plt.close(\"Generated samples epoch \" + str(epoch))\n",
    "            f = plt.figure(\"Generated samples epoch \" + str(epoch), figsize = (20,15))\n",
    "            f.suptitle(\"Generated samples epoch \" + str(epoch), fontsize = 30)\n",
    "        else:\n",
    "            plt.close(\"Generated samples\")\n",
    "            f = plt.figure(\"Generated samples\", figsize = (20,15))\n",
    "            f.suptitle(\"Generated samples\", fontsize = 30)            \n",
    "    elif predicted == True and generated == False :\n",
    "        if epoch != None:\n",
    "            plt.close(\"Predicted samples epoch \" + str(epoch))\n",
    "            f = plt.figure(\"Predicted samples epoch \" + str(epoch), figsize = (20,15))\n",
    "            f.suptitle(\"Predicted samples epoch \" + str(epoch), fontsize = 30)\n",
    "        else:\n",
    "            plt.close(\"Predicted samples\")\n",
    "            f = plt.figure(\"Predicted samples\", figsize = (20,15))\n",
    "            f.suptitle(\"Predicted samples\", fontsize = 30)            \n",
    "    else:\n",
    "        plt.close(\"MNIST samples\")\n",
    "        f = plt.figure(\"MNIST samples\", figsize = (20,15))\n",
    "        f.suptitle(\"MNIST training samples\", fontsize = 30)\n",
    "    f.subplots_adjust(wspace=0.2, hspace=0.4)\n",
    "    plt.rc('axes', titlesize=20)\n",
    "    \n",
    "    for i in range(16):\n",
    "        if i < samples.size(0):\n",
    "            fi = f.add_subplot(4, 4, i + 1)\n",
    "            fi.imshow(samples[i].reshape(28, 28), cmap=\"gray_r\")\n",
    "            plt.xticks([])\n",
    "            plt.yticks([]) \n",
    "            if generated == True and predicted == True :\n",
    "                fi.title.set_text(\"Pred: \" + str(predicted_labels[i].detach().numpy()))\n",
    "            elif generated == True and predicted == False :\n",
    "                fi.title.set_text(\"Sample \" + str(i))\n",
    "            elif predicted == True and generated == False :\n",
    "                fi.title.set_text(\"Pred: \" + str(predicted_labels[i].detach().numpy()) +  \", true: \" + str(true_labels[i].detach().numpy()))\n",
    "            else:\n",
    "                fi.title.set_text(\"Sample \" + str(i) + \": \" + str(true_labels[i].detach().numpy()))\n",
    "    \n",
    "    now = datetime.now().strftime(\"%Y_%m_%d__%H_%M\")\n",
    "    if generated == True and predicted == True :\n",
    "        f.savefig('../Figures/Sample_generated__' + now + '__epoch_' + str(epoch) + '.png')\n",
    "    elif generated == True and predicted == False :\n",
    "        f.savefig('../Figures/Sample_generated_predicted__' + now + '__epoch_' + str(epoch) + '.png')\n",
    "    elif predicted == True and generated == False :\n",
    "        f.savefig('../Figures/Sample_predicted__' + now + '__epoch_' + str(epoch) + '.png')\n",
    "    else:\n",
    "        f.savefig('Figures/Sample_MNIST.png')"
   ]
  },
  {
   "cell_type": "code",
   "execution_count": 17,
   "id": "modular-despite",
   "metadata": {},
   "outputs": [
    {
     "data": {
      "image/png": "[encoded data removed]",
      "text/plain": [
       "<Figure size 1440x1080 with 16 Axes>"
      ]
     },
     "metadata": {},
     "output_type": "display_data"
    }
   ],
   "source": [
    "showImages(real_samples, true_labels = mnist_labels)"
   ]
  },
  {
   "cell_type": "markdown",
   "id": "exotic-donna",
   "metadata": {},
   "source": [
    "## Section 1: Train a GAN on MNIST for image generation\n",
    "In this first part, you are asked to train and test a GAN for the generation of fake handwritten numbers (and letters). \n",
    "\n",
    "Let's just recall what training a model means in machine learning. It is in fact quite simple: given a model architecture, use an optimization scheme to minimize a loss function (representing the gap between the data and the model predictions) in order to find the optimal values of the model parameters. In this Section, all of these elements are treated one by one.\n",
    "\n",
    "Moreover, you receive reference Generator and Discriminator architectures. These neural network architectures should not be changed. Indeed, they are sufficient in order to get nice enough results while keeping the training time reasonable on a laptop CPU (normally less than 2 hours training).\n",
    "\n",
    "However, if you want to train additional Generator and/or Discriminator models that could be larger or smaller (for improved results or faster training for example), feel free to create them by yourself, explain them with comments and name them differently."
   ]
  },
  {
   "cell_type": "markdown",
   "id": "quiet-eagle",
   "metadata": {},
   "source": [
    "### 1.a Generator class\n",
    "The Generator class takes an input: the dimension of the latent space. Indeed, the generator will create an image (1x28x28) from an input latent vector (1 color i.e. gray-scale, 28x28 pixels). Typically, this vector is of dimension 100 with each entry sampled from a standard normal distribution or from an uniform distribution on [-1,1]. You are free to change this dimension and see what happens.\n",
    "\n",
    "The latent space is thus a space where the information contained in the images is compressed/condensed. This latent space will be the focus of the second part of the homework."
   ]
  },
  {
   "cell_type": "code",
   "execution_count": 18,
   "id": "patent-westminster",
   "metadata": {},
   "outputs": [],
   "source": [
    "# Dimension of the latent space\n",
    "# Predefined value = 100\n",
    "\n",
    "dim_latent_space = 100"
   ]
  },
  {
   "cell_type": "markdown",
   "id": "instrumental-crack",
   "metadata": {},
   "source": [
    "The class below contains the reference Generator architecture. You don't have to worry about the initialization of the model, it is done automatically.\n",
    "\n",
    "This architecture should not be changed.\n",
    "\n",
    "The Generator takes a batch of latent vectors as input, and ouputs one 1x28x28 pixels image for each input."
   ]
  },
  {
   "cell_type": "code",
   "execution_count": 19,
   "id": "outer-navigation",
   "metadata": {},
   "outputs": [],
   "source": [
    "class Generator(nn.Module):\n",
    "\n",
    "    def __init__(self, dim_latent_space):\n",
    "        super().__init__()\n",
    "        self.dim_latent_space = dim_latent_space\n",
    "        self.fc = nn.Linear(self.dim_latent_space, 64*7*7)\n",
    "        self.trans_conv1 = nn.ConvTranspose2d(64, 64, kernel_size = 3, stride = 2, padding = 1, output_padding = 1)#Applies a 2D transposed convolution operator over an input image composed of several input planes.\n",
    "        self.batch_norm1 = nn.BatchNorm2d(64)\n",
    "        self.trans_conv2 = nn.ConvTranspose2d(64, 32, kernel_size = 3, stride = 1, padding = 1)\n",
    "        self.batch_norm2 = nn.BatchNorm2d(32)\n",
    "        self.trans_conv3 = nn.ConvTranspose2d(32, 16, kernel_size = 3, stride = 1, padding = 1)\n",
    "        self.batch_norm3 = nn.BatchNorm2d(16)\n",
    "        self.trans_conv4 = nn.ConvTranspose2d(16, 1, kernel_size = 3, stride = 2, padding = 1, output_padding = 1)\n",
    "        \n",
    "    def forward(self, x):                   # Input = batch_size*dim_latent_space\n",
    "        x = self.fc(x)                      # Output = batch_size*(64*7*7)\n",
    "        x = x.view(-1, 64, 7, 7)            # Output = batch_size*64*7*7\n",
    "        x = self.trans_conv1(x)             # Output = batch_size*64*14*14\n",
    "        x = F.relu(self.batch_norm1(x))\n",
    "        x = self.trans_conv2(x)             # Output = batch_size*32*14*14\n",
    "        x = F.relu(self.batch_norm2(x))\n",
    "        x = self.trans_conv3(x)             # Output = batch_size*16*14*14\n",
    "        x = F.relu(self.batch_norm3(x))     \n",
    "        x = self.trans_conv4(x)             # Output = batch_size*1*28*28\n",
    "        x = torch.tanh(x)\n",
    "        return x"
   ]
  },
  {
   "cell_type": "code",
   "execution_count": 20,
   "id": "numerical-discussion",
   "metadata": {},
   "outputs": [],
   "source": [
    "generator = Generator(dim_latent_space).to(device=device)"
   ]
  },
  {
   "cell_type": "markdown",
   "id": "mounted-resource",
   "metadata": {},
   "source": [
    "### 1.b Discriminator class\n",
    "The class below contains the reference Discriminator architecture. You don't have to worry about the initialization of the model, it is done automatically.\n",
    "\n",
    "This architecture should not be changed.\n",
    "\n",
    "The Discriminitor takes a batch of 1x28x28 pixels images as input, and ouputs numbers between -inf and +inf. The activation of the last layer represents some likelihood of the image being fake or not, according to the model. Afterwards, it goes through a sigmoid function in order to scale numbers between 0 and 1. An output of 0 means that the model is certain that the corresponding input image is fake, and an output of 1 means that it is certain that it is real."
   ]
  },
  {
   "cell_type": "code",
   "execution_count": 21,
   "id": "julian-partnership",
   "metadata": {},
   "outputs": [],
   "source": [
    "class Discriminator(nn.Module):\n",
    "    \n",
    "    def __init__(self):\n",
    "        super().__init__()\n",
    "        self.conv0 = nn.Conv2d(1, 32, kernel_size = 3, stride = 2, padding = 1)     \n",
    "        self.conv0_drop = nn.Dropout2d(0.25)\n",
    "        self.conv1 = nn.Conv2d(32, 64, kernel_size = 3, stride = 1, padding = 1)\n",
    "        self.conv1_drop = nn.Dropout2d(0.25)\n",
    "        self.conv2 = nn.Conv2d(64, 128, kernel_size = 3, stride = 1, padding = 1)\n",
    "        self.conv2_drop = nn.Dropout2d(0.25)\n",
    "        self.conv3 = nn.Conv2d(128, 128, kernel_size = 3, stride = 2, padding = 1)\n",
    "        self.conv3_drop = nn.Dropout2d(0.25)\n",
    "        self.fc = nn.Linear(128*7*7, 1)\n",
    "    \n",
    "    def forward(self, x):                               # Input = batch_size*1*28*28\n",
    "        x = x.view(-1, 1, 28, 28)                       # Output = batch_size*1*28*28\n",
    "        x = F.leaky_relu(self.conv0(x), 0.2)            # Output = batch_size*32*14*14\n",
    "        x = self.conv0_drop(x)\n",
    "        x = F.leaky_relu(self.conv1(x), 0.2)            # Output = batch_size*64*14*14\n",
    "        x = self.conv1_drop(x)\n",
    "        x = F.leaky_relu(self.conv2(x), 0.2)            # Output = batch_size*128*14*14\n",
    "        x = self.conv2_drop(x)\n",
    "        x = F.leaky_relu(self.conv3(x), 0.2)            # Output = batch_size*128*7*7\n",
    "        x = self.conv3_drop(x)\n",
    "        x = x.view(-1, 128*7*7)                         # Output = batch_size*(128*7*7)\n",
    "        x = self.fc(x)                                  # Output = batch_size*1\n",
    "        return x"
   ]
  },
  {
   "cell_type": "code",
   "execution_count": 22,
   "id": "realistic-calcium",
   "metadata": {},
   "outputs": [],
   "source": [
    "discriminator = Discriminator().to(device=device)"
   ]
  },
  {
   "cell_type": "markdown",
   "id": "commercial-checkout",
   "metadata": {},
   "source": [
    "### 1.c Number of parameters\n",
    "This function counts and prints the number of parameters in any neural network model.\n",
    "\n",
    "There should be no need to modify the function numberParameters."
   ]
  },
  {
   "cell_type": "code",
   "execution_count": 23,
   "id": "communist-temperature",
   "metadata": {},
   "outputs": [],
   "source": [
    "def numberParameters(model, trainable = False, model_name = None):\n",
    "    total_params = sum(param.numel() for param in model.parameters())\n",
    "    if model_name != None:\n",
    "        print(\"Number of parameters of \" + model_name + \": \" + str(total_params))\n",
    "    return total_params"
   ]
  },
  {
   "cell_type": "code",
   "execution_count": 24,
   "id": "irish-community",
   "metadata": {},
   "outputs": [
    {
     "name": "stdout",
     "output_type": "stream",
     "text": [
      "Number of parameters of discriminator: 246529\n",
      "Number of parameters of generator: 377121\n"
     ]
    }
   ],
   "source": [
    "discriminator_params = numberParameters(discriminator, model_name = \"discriminator\")\n",
    "generator_params = numberParameters(generator, model_name = \"generator\")"
   ]
  },
  {
   "cell_type": "markdown",
   "id": "charged-copying",
   "metadata": {},
   "source": [
    "### 1.d Loss function\n",
    "The loss function measures how good the model is. For the discriminator, it a binary classification problem: the discriminator tries to distinguish true data (label = 1) from fake generated ones (label = 0). Therefore, we use a Binary Cross Entropy loss. As the only goal of the generator is to fool the discriminator, it can also be expressed with a Binary Cross Entropy loss function. Think about what inputs we need to give to the loss function for the discriminator and for the generator.\n",
    "\n",
    "You see that BCELoss is replaced by BCEWithLogitsLoss. Think about why this is, and how it links with the last layer of the given Discriminator architecture.\n",
    "\n",
    "This loss function should not be changed."
   ]
  },
  {
   "cell_type": "code",
   "execution_count": 25,
   "id": "friendly-royalty",
   "metadata": {},
   "outputs": [],
   "source": [
    "# Loss function for the GAN\n",
    "\n",
    "#loss_function_gan = nn.BCELoss()\n",
    "loss_function_gan = nn.BCEWithLogitsLoss()"
   ]
  },
  {
   "cell_type": "markdown",
   "id": "electrical-exclusive",
   "metadata": {},
   "source": [
    "### 1.e Optimizers\n",
    "Adam is one of the most famous adaptive stochastic gradient descent algorithm. It is massively used for training neural networks.\n",
    "\n",
    "You can play around with the Adam parameters if you want."
   ]
  },
  {
   "cell_type": "code",
   "execution_count": 26,
   "id": "identical-protection",
   "metadata": {},
   "outputs": [],
   "source": [
    "# Adam optimization parameters\n",
    "# Predefined values: lr_gan = 0.0002, betas_gan = (0.5, 0.999)\n",
    "lr_gan = 0.0002\n",
    "betas_gan = (0.5, 0.999)\n",
    "\n",
    "optimizer_discriminator = torch.optim.Adam(discriminator.parameters(), lr=lr_gan, betas = betas_gan)\n",
    "optimizer_generator = torch.optim.Adam(generator.parameters(), lr=lr_gan, betas = betas_gan)"
   ]
  },
  {
   "cell_type": "markdown",
   "id": "julian-crowd",
   "metadata": {},
   "source": [
    "### 1.f Accuracy\n",
    "We define one error measure as the accuracy reached by the discriminator for its predictions y_predicted, i.e. the ratio between the number of correct classifications and the total number of samples. We suppose that if 0.0 <= y_generated[i] <= 0.5, then it predicts a fake image and if 0.5 < y_generated[i] <= 1.0, it predicts a true image.\n",
    "\n",
    "During the training, data are loaded batch by batch. It could thus be a good idea to consider that the inputs of the following function are the true and predicted labels from one batch of data.\n",
    "\n",
    "Task: complete the computeGANAccuracy function."
   ]
  },
  {
   "cell_type": "code",
   "execution_count": 91,
   "id": "blessed-chancellor",
   "metadata": {},
   "outputs": [],
   "source": [
    "from sklearn.metrics import accuracy_score\n",
    "\n",
    "def computeGANAccuracy(y_predicted,y_true):\n",
    "    sigmoid = nn.Sigmoid()\n",
    "    y_true_np = y_true.detach().numpy().ravel()\n",
    "    y_predicted_rescale = sigmoid(y_predicted).detach().numpy().ravel()\n",
    "    y_predicted_rescale = (y_predicted_rescale >= 0.5)*1\n",
    "    correct_preds = (y_predicted_rescale == y_true_np).sum()\n",
    "    accuracy = correct_preds/len(y_true_np)\n",
    "    return accuracy\n"
   ]
  },
  {
   "cell_type": "markdown",
   "id": "operating-shanghai",
   "metadata": {},
   "source": [
    "### 1.g Preparing the training process\n",
    "In this part, you are asked to initialize the training process (not the model which is initialized automatically). \n",
    "\n",
    "Let's just first define the number of iterations (epochs) that the training will last. Satisfactory results can be obtained with 5 epochs, but you can of course increase this value for a better training."
   ]
  },
  {
   "cell_type": "code",
   "execution_count": 28,
   "id": "continued-lightweight",
   "metadata": {},
   "outputs": [],
   "source": [
    "# Number of epochs for the training\n",
    "# Predefined value: num_epochs_gan = 5\n",
    "\n",
    "num_epochs_gan = 5"
   ]
  },
  {
   "cell_type": "markdown",
   "id": "optimum-tomato",
   "metadata": {},
   "source": [
    "It is important to keep track of the evolution of the error metrics during the training process. A simple idea is to store the values of the metrics in arrays, at least after every epoch.\n",
    "\n",
    "Task: Create arrays that will contain the accuracy for train and test sets, as well as the values of the discriminator loss and of the generator loss during the training. Compute the errors before training the model and store them in your arrays."
   ]
  },
  {
   "cell_type": "code",
   "execution_count": 29,
   "id": "announced-drain",
   "metadata": {},
   "outputs": [],
   "source": [
    "# Error metrics at initialisation\n",
    "generator_loss = []\n",
    "discriminator_loss = []\n",
    "\n",
    "train_acc = []\n",
    "val_acc = []\n",
    "\n",
    "# TO COMPLETE"
   ]
  },
  {
   "cell_type": "markdown",
   "id": "southeast-shaft",
   "metadata": {},
   "source": [
    "It is a good option to keep track of the evolution of the images generated through the training. Defining a reference sample of latent vectors allows to generate the image for the same inputs every time. You can compute the output from those vectors after each epoch to see how the generated images evolve with the training. The latent vectors can be generated from a standard normal distribution, or from a uniform distribution over [-1,1].\n",
    "\n",
    "Task: Define a sample of reference latent vectors."
   ]
  },
  {
   "cell_type": "code",
   "execution_count": 30,
   "id": "regional-saudi",
   "metadata": {},
   "outputs": [],
   "source": [
    "# Reference latent vectors\n",
    "\n",
    "# TO COMPLETE\n",
    "latent_vectors = torch.randn((5, dim_latent_space), device = device)\n"
   ]
  },
  {
   "cell_type": "markdown",
   "id": "frozen-estonia",
   "metadata": {},
   "source": [
    "### 1.h Training and testing the GAN\n",
    "This is finally the core part of this section: training your GAN.\n",
    "\n",
    "The training will follow an easy structure. Here is the pseudo-code of the training process:\n",
    "\n",
    "\n",
    "    for each epoch:\n",
    "\n",
    "        for each batch:\n",
    "\n",
    "            train the discriminator on the batch:\n",
    "\n",
    "                generate fake data (same amount as size of the batch)\n",
    "\n",
    "                predict if data from the batch and generated data are fake or not\n",
    "\n",
    "                compute the discriminator loss function\n",
    "\n",
    "                backpropagate the error in the discriminator\n",
    "\n",
    "            train the generator on the batch\n",
    "\n",
    "                generate fake data (same amount as size of the batch)\n",
    "\n",
    "                predict if generated data are fake or not\n",
    "\n",
    "                compute the generator loss function\n",
    "\n",
    "                backpropagate the error in the generator\n",
    "\n",
    "        end\n",
    "\n",
    "    end\n",
    "\n",
    "Task: Code the GAN training from the pseudo-code given above. Don't forget to switch between training and evaluation modes for the models, by using train() and eval() Pytorch functions. To understand what to do and why, look for their impact on specific layers of the networks. You may also use the time package in order to get information about the duration of the training. Finally, at every epoch, compute and store the accuracy and the losses of the model and generate images from your reference sample.\n",
    "\n",
    "https://pytorch.org/tutorials/beginner/dcgan_faces_tutorial.html"
   ]
  },
  {
   "cell_type": "code",
   "execution_count": 94,
   "id": "unusual-posting",
   "metadata": {},
   "outputs": [
    {
     "name": "stdout",
     "output_type": "stream",
     "text": [
      "Epoch: 0 / 5 , Samples: 0 / 1875 , Loss of D: 0.504278302192688 , training accuracy D: 0.765625 , Loss of G: 1.3573070764541626 , elapsed time: 0.9753847122192383 seconds\n",
      "Epoch: 0 / 5 , Samples: 50 / 1875 , Loss of D: 0.5945826172828674 , training accuracy D: 0.640625 , Loss of G: 1.379152536392212 , elapsed time: 52.28570628166199 seconds\n",
      "Epoch: 0 / 5 , Samples: 100 / 1875 , Loss of D: 0.6193362474441528 , training accuracy D: 0.6875 , Loss of G: 1.3354867696762085 , elapsed time: 94.35563683509827 seconds\n",
      "Epoch: 0 / 5 , Samples: 150 / 1875 , Loss of D: 0.4704681932926178 , training accuracy D: 0.796875 , Loss of G: 1.2642326354980469 , elapsed time: 123.89030623435974 seconds\n"
     ]
    },
    {
     "ename": "KeyboardInterrupt",
     "evalue": "",
     "output_type": "error",
     "traceback": [
      "\u001b[1;31m---------------------------------------------------------------------------\u001b[0m",
      "\u001b[1;31mKeyboardInterrupt\u001b[0m                         Traceback (most recent call last)",
      "Input \u001b[1;32mIn [94]\u001b[0m, in \u001b[0;36m<cell line: 6>\u001b[1;34m()\u001b[0m\n\u001b[0;32m     25\u001b[0m \u001b[38;5;66;03m# Compute loss and accuracy for discriminator, do backprop\u001b[39;00m\n\u001b[0;32m     26\u001b[0m loss_discriminator \u001b[38;5;241m=\u001b[39m loss_function_gan(output_discriminator, all_samples_labels)\n\u001b[1;32m---> 27\u001b[0m \u001b[43mloss_discriminator\u001b[49m\u001b[38;5;241;43m.\u001b[39;49m\u001b[43mbackward\u001b[49m\u001b[43m(\u001b[49m\u001b[43m)\u001b[49m\n\u001b[0;32m     28\u001b[0m optimizer_discriminator\u001b[38;5;241m.\u001b[39mstep()\n\u001b[0;32m     30\u001b[0m discriminator_loss\u001b[38;5;241m.\u001b[39mappend(loss_discriminator\u001b[38;5;241m.\u001b[39mitem())\n",
      "File \u001b[1;32m~\\anaconda3\\lib\\site-packages\\torch\\_tensor.py:487\u001b[0m, in \u001b[0;36mTensor.backward\u001b[1;34m(self, gradient, retain_graph, create_graph, inputs)\u001b[0m\n\u001b[0;32m    477\u001b[0m \u001b[38;5;28;01mif\u001b[39;00m has_torch_function_unary(\u001b[38;5;28mself\u001b[39m):\n\u001b[0;32m    478\u001b[0m     \u001b[38;5;28;01mreturn\u001b[39;00m handle_torch_function(\n\u001b[0;32m    479\u001b[0m         Tensor\u001b[38;5;241m.\u001b[39mbackward,\n\u001b[0;32m    480\u001b[0m         (\u001b[38;5;28mself\u001b[39m,),\n\u001b[1;32m   (...)\u001b[0m\n\u001b[0;32m    485\u001b[0m         inputs\u001b[38;5;241m=\u001b[39minputs,\n\u001b[0;32m    486\u001b[0m     )\n\u001b[1;32m--> 487\u001b[0m \u001b[43mtorch\u001b[49m\u001b[38;5;241;43m.\u001b[39;49m\u001b[43mautograd\u001b[49m\u001b[38;5;241;43m.\u001b[39;49m\u001b[43mbackward\u001b[49m\u001b[43m(\u001b[49m\n\u001b[0;32m    488\u001b[0m \u001b[43m    \u001b[49m\u001b[38;5;28;43mself\u001b[39;49m\u001b[43m,\u001b[49m\u001b[43m \u001b[49m\u001b[43mgradient\u001b[49m\u001b[43m,\u001b[49m\u001b[43m \u001b[49m\u001b[43mretain_graph\u001b[49m\u001b[43m,\u001b[49m\u001b[43m \u001b[49m\u001b[43mcreate_graph\u001b[49m\u001b[43m,\u001b[49m\u001b[43m \u001b[49m\u001b[43minputs\u001b[49m\u001b[38;5;241;43m=\u001b[39;49m\u001b[43minputs\u001b[49m\n\u001b[0;32m    489\u001b[0m \u001b[43m\u001b[49m\u001b[43m)\u001b[49m\n",
      "File \u001b[1;32m~\\anaconda3\\lib\\site-packages\\torch\\autograd\\__init__.py:197\u001b[0m, in \u001b[0;36mbackward\u001b[1;34m(tensors, grad_tensors, retain_graph, create_graph, grad_variables, inputs)\u001b[0m\n\u001b[0;32m    192\u001b[0m     retain_graph \u001b[38;5;241m=\u001b[39m create_graph\n\u001b[0;32m    194\u001b[0m \u001b[38;5;66;03m# The reason we repeat same the comment below is that\u001b[39;00m\n\u001b[0;32m    195\u001b[0m \u001b[38;5;66;03m# some Python versions print out the first line of a multi-line function\u001b[39;00m\n\u001b[0;32m    196\u001b[0m \u001b[38;5;66;03m# calls in the traceback and some print out the last line\u001b[39;00m\n\u001b[1;32m--> 197\u001b[0m \u001b[43mVariable\u001b[49m\u001b[38;5;241;43m.\u001b[39;49m\u001b[43m_execution_engine\u001b[49m\u001b[38;5;241;43m.\u001b[39;49m\u001b[43mrun_backward\u001b[49m\u001b[43m(\u001b[49m\u001b[43m  \u001b[49m\u001b[38;5;66;43;03m# Calls into the C++ engine to run the backward pass\u001b[39;49;00m\n\u001b[0;32m    198\u001b[0m \u001b[43m    \u001b[49m\u001b[43mtensors\u001b[49m\u001b[43m,\u001b[49m\u001b[43m \u001b[49m\u001b[43mgrad_tensors_\u001b[49m\u001b[43m,\u001b[49m\u001b[43m \u001b[49m\u001b[43mretain_graph\u001b[49m\u001b[43m,\u001b[49m\u001b[43m \u001b[49m\u001b[43mcreate_graph\u001b[49m\u001b[43m,\u001b[49m\u001b[43m \u001b[49m\u001b[43minputs\u001b[49m\u001b[43m,\u001b[49m\n\u001b[0;32m    199\u001b[0m \u001b[43m    \u001b[49m\u001b[43mallow_unreachable\u001b[49m\u001b[38;5;241;43m=\u001b[39;49m\u001b[38;5;28;43;01mTrue\u001b[39;49;00m\u001b[43m,\u001b[49m\u001b[43m \u001b[49m\u001b[43maccumulate_grad\u001b[49m\u001b[38;5;241;43m=\u001b[39;49m\u001b[38;5;28;43;01mTrue\u001b[39;49;00m\u001b[43m)\u001b[49m\n",
      "\u001b[1;31mKeyboardInterrupt\u001b[0m: "
     ]
    }
   ],
   "source": [
    "# Training of the GAN\n",
    "\n",
    "start = time.time()\n",
    "generated_images = []\n",
    "\n",
    "for epoch in range(num_epochs_gan):\n",
    "    discriminator.train()\n",
    "    generator.train()\n",
    "    for n, data in enumerate(train_loader, 0):\n",
    "        \n",
    "        # Data for training the discriminator\n",
    "        real_cpu = data[0].to(device)\n",
    "        #real_samples = real_samples.to(device=device)\n",
    "        real_cpu_labels = torch.ones((batch_size, 1)).to(device=device)\n",
    "        latent_space_samples = torch.randn((batch_size, dim_latent_space)).to(device=device)\n",
    "        generated_cpu = generator(latent_space_samples)\n",
    "        generated_cpu_labels = torch.zeros((batch_size, 1)).to(device=device)\n",
    "        all_samples = torch.cat((real_cpu, generated_cpu))\n",
    "        all_samples_labels = torch.cat((real_cpu_labels, generated_cpu_labels))\n",
    "        \n",
    "        # Training the discriminator on all samples (fake and real)\n",
    "        discriminator.zero_grad()\n",
    "        output_discriminator = discriminator(all_samples)\n",
    "    \n",
    "        # Compute loss and accuracy for discriminator, do backprop\n",
    "        loss_discriminator = loss_function_gan(output_discriminator, all_samples_labels)\n",
    "        loss_discriminator.backward()\n",
    "        optimizer_discriminator.step()\n",
    "        \n",
    "        discriminator_loss.append(loss_discriminator.item())\n",
    "        acc = computeGANAccuracy(output_discriminator, all_samples_labels)\n",
    "        train_acc.append(acc)\n",
    "        #print(sigmoid(output_discriminator).detach().numpy())\n",
    "        \n",
    "        # Data for training the generator\n",
    "        latent_space_samples = torch.randn((batch_size, dim_latent_space)).to(device=device)\n",
    "        generator.zero_grad()\n",
    "        generated_samples = generator(latent_space_samples)\n",
    "        generated_samples_labels = torch.ones((batch_size,1)).to(device =device) # fake labels are real for generator cost\n",
    "\n",
    "        #training generator\n",
    "        output_discriminator_generated = discriminator(generated_samples)\n",
    "        loss_generator = loss_function_gan( output_discriminator_generated, generated_samples_labels )\n",
    "        loss_generator.backward()\n",
    "        optimizer_generator.step()\n",
    "        generator_loss.append(loss_generator.item())\n",
    "        \n",
    "        # keep track of loss\n",
    "        if(n % 50 == 0):\n",
    "            itertime = time.time()\n",
    "            print(\"Epoch:\", epoch, \"/\", num_epochs_gan,\", Samples:\", n, \"/\", len(train_loader),\n",
    "                  \", Loss of D:\", loss_discriminator.item(), \", training accuracy D:\", acc,\n",
    "                  \", Loss of G:\", loss_generator.item(), \", elapsed time:\", itertime - start, \"seconds\")\n",
    "            \n",
    "        if (n % 500 == 0) or ((epoch == num_epochs_gan-1) and (i == len(train_loader)-1)):\n",
    "            with torch.no_grad():\n",
    "                fake = generator(latent_vectors).detach().cpu()\n",
    "            generated_images.append(torchvision.utils.make_grid(fake, padding=2, normalize=True))\n",
    "            \n",
    "    \n",
    "    discriminator.eval()\n",
    "    generator.eval()\n",
    "    \n",
    "    for n, data in enumerate(test_loader, 0):\n",
    "        discriminator.zero_grad()\n",
    "        generator.zero_grad()\n",
    "        real_cpu = data[0].to(device)\n",
    "        \n",
    "        output = discriminator(real_cpu)\n",
    "        val_acc.append(computeGANAccuracy(output, torch.ones((batch_size,1))))\n",
    "    \n",
    "    epochtime = time.time()\n",
    "    \n",
    "    print(\"Epoch: \", epoch, \"/\", num_epochs_gan,\", elapsed time:\", epochtime-start, \", generated images:\")\n",
    "    \n",
    "    showImages(generated_images, generated=True, epoch=epoch)\n",
    "    \n",
    "    \n",
    "        \n",
    "# TO COMPLETE"
   ]
  },
  {
   "cell_type": "markdown",
   "id": "returning-drill",
   "metadata": {},
   "source": [
    "### 1.i Plot the results\n",
    "You should plot the evolution of your error metrics (accuracy and loss function) in function of the number of epochs, to see how efficient the training is. Show the evolution of the images generated from your reference sample as well.\n",
    "\n",
    "Task: Make those plots, as clean and readable as possible."
   ]
  },
  {
   "cell_type": "code",
   "execution_count": null,
   "id": "veterinary-headset",
   "metadata": {},
   "outputs": [],
   "source": [
    "# Plots of accuracy and of loss function, images generated from your reference sample.\n",
    "# Show loss\n",
    "       \n",
    "# TO COMPLETE"
   ]
  },
  {
   "cell_type": "markdown",
   "id": "artistic-relations",
   "metadata": {},
   "source": [
    "### 1.j Save your models\n",
    "A really useful feature for your experiments is to be able to save your models. This can be done with the torch.save function. In the function saveModel, a model is stored in the folder ./Models that you may want to create. The (date)time is used to always store your models with a different name and never lose some training that you would have done.\n",
    "\n",
    "Be careful however: the saveModel function below stores the \"state dictionary\" of your model, not your model itself. \n",
    "\n",
    "You can of course modify the function saveModel as you wish."
   ]
  },
  {
   "cell_type": "code",
   "execution_count": null,
   "id": "formal-breathing",
   "metadata": {},
   "outputs": [],
   "source": [
    "def saveModel(model, model_name):\n",
    "    now = datetime.now().strftime(\"%Y_%m_%d__%H_%M\")\n",
    "    torch.save(model.state_dict(), '../Models/' + model_name + '__' + now)\n",
    "\n",
    "#### Example\n",
    "#\n",
    "# D = Discriminator().to(device=device)\n",
    "# saveModel(D, \"Discriminator\")\n",
    "#\n",
    "##\n",
    "# The model D has been saved as \"Discriminator__2022_11_12__15_21\" in the folder ./Models as your code finished running at\n",
    "# 15:21 on the 12 November 2022.\n",
    "##"
   ]
  },
  {
   "cell_type": "markdown",
   "id": "needed-memorabilia",
   "metadata": {},
   "source": [
    "### 1.k Load your models\n",
    "You can also load models that you trained and saved earlier with the function loadModel.\n",
    "\n",
    "However, be careful. You will have to first recreate a new instance of your class, and then import the state dictionary in the new instance. This means that the characteristics of your class should not have changed since then. In particular, the number of layers and the size of the layers need to match between the trained model and the most recent class in order to correctly assign the stored parameters. Moreover, there could be some trouble if you changed functions/methods from the class. \n",
    "\n",
    "You can of course modify the function loadModel as you wish."
   ]
  },
  {
   "cell_type": "code",
   "execution_count": null,
   "id": "indirect-france",
   "metadata": {},
   "outputs": [],
   "source": [
    "def loadModel(model, model_name, date_time):\n",
    "    model.load_state_dict(torch.load('../Models/' + model_name + '__' + date_time))\n",
    "    model.eval()\n",
    "    return model\n",
    "\n",
    "#### Example\n",
    "#\n",
    "# D = Discriminator().to(device=device)\n",
    "# loadModel(D, \"Discriminator\", \"2022_11_12__15_21\")\n",
    "#\n",
    "##\n",
    "# The model \"Discriminator__2022_11_12__15_21\" from the folder ./Models has been loaded in the Discriminator D\n",
    "##"
   ]
  },
  {
   "cell_type": "markdown",
   "id": "english-still",
   "metadata": {},
   "source": [
    "## Section 2: Train a CNN on MNIST for image classification\n",
    "In this second part, you are asked to train and test a CNN for the classification of handwritten numbers (and letters).\n",
    "\n",
    "Therefore, you receive a reference CNN architecture that should not be changed. Training your CNN should be faster than training your GAN, so there is no fear about that.\n",
    "\n",
    "However, if you want to train additional CNN models (for improved results or faster training for example), feel free to create them by yourself and name the classes differently."
   ]
  },
  {
   "cell_type": "markdown",
   "id": "cellular-boston",
   "metadata": {},
   "source": [
    "### 2.a Number of classes\n",
    "For classification task, it is of course necessary to know the number of classes possible. \n",
    "\n",
    "For the rest of the homework, pay attention not to confuse the label class (ex: the image represents a 2) and a model class (ex: the model is an instance of the CNN class).\n",
    "\n",
    "There should be no need to modify the function numberClasses."
   ]
  },
  {
   "cell_type": "code",
   "execution_count": null,
   "id": "institutional-strand",
   "metadata": {},
   "outputs": [],
   "source": [
    "def numberClasses(dataset):\n",
    "    n_classes = len(dataset.classes)\n",
    "    return n_classes"
   ]
  },
  {
   "cell_type": "code",
   "execution_count": null,
   "id": "systematic-roots",
   "metadata": {},
   "outputs": [],
   "source": [
    "n_classes = numberClasses(train_set)"
   ]
  },
  {
   "cell_type": "markdown",
   "id": "elect-cursor",
   "metadata": {},
   "source": [
    "### 2.b CNN class\n",
    "The class below contains the reference CNN architecture. You don't have to worry about the initialization of the model, it is done automatically.\n",
    "\n",
    "This architecture should not be changed.\n",
    "\n",
    "The CNN architecture is defined by the number of classes. Indeed, for each entry it outputs a vector of size n_classes with values between -inf and +inf. This vector can be passed through the function scaleToProbabilities in order to get scaled and become somewhat interpretable as probabilities of belonging to one class. The function predictLabels extends the scaleToProbabilities function and selects the most activated/highest valued class as the CNN prediction.\n",
    "\n",
    "There should be no need to modify the functions scaleToProbabilities and predictLabels, except playing with the scale_factor."
   ]
  },
  {
   "cell_type": "code",
   "execution_count": null,
   "id": "quantitative-manitoba",
   "metadata": {},
   "outputs": [],
   "source": [
    "class CNN(nn.Module):\n",
    "    def __init__(self, n_classes):\n",
    "        super(CNN, self).__init__()\n",
    "        self.n_classes = n_classes\n",
    "        self.conv1 = nn.Sequential(             # Images input is batch_size*1*28*28\n",
    "            nn.Conv2d(1, 16, 5, 1, 2),          # Output is batch_size*16*28*28\n",
    "            nn.ReLU(),                      \n",
    "            nn.MaxPool2d(kernel_size=2),        # Output is batch_size*16*14*14\n",
    "        )\n",
    "        self.conv2 = nn.Sequential(         \n",
    "            nn.Conv2d(16, 32, 5, 1, 2),         # Output is batch_size*32*14*14\n",
    "            nn.ReLU(),                      \n",
    "            nn.MaxPool2d(2),                    # Output is batch_size*32*7*7\n",
    "        )\n",
    "        # fully connected layer, output one number for each class\n",
    "        self.out = nn.Sequential(         \n",
    "            nn.Linear(32 * 7 * 7, self.n_classes),          # Output is batch_size*n_classes\n",
    "        )\n",
    "    \n",
    "    def scaleToProbabilities(self, outmap, scale_factor = 3): \n",
    "        # scale_factor allows to scale your output before passing it into the softmax function \n",
    "        # in order to get numbers interpratble as probabilities\n",
    "        \n",
    "        flattened_outmap = outmap.view(outmap.shape[0], -1)\n",
    "        outmap_std = torch.std(flattened_outmap, dim = 1).view(-1, 1)\n",
    "        outmap_scaled_std = torch.div(outmap, outmap_std)\n",
    "        probabilities = nn.functional.softmax(outmap_scaled_std*scale_factor, dim=1)\n",
    "        return probabilities\n",
    "    \n",
    "    def predictLabels(self, outmap, scale_factor = 3):\n",
    "        probabilities = self.scaleToProbabilities(outmap, scale_factor = 3)\n",
    "        certainty, predicted_labels = torch.max(probabilities, 1)\n",
    "        predicted_labels = predicted_labels.data.squeeze()\n",
    "        certainty = certainty.data.squeeze()\n",
    "        return predicted_labels, probabilities, certainty\n",
    "        \n",
    "    def forward(self, x):\n",
    "        x = self.conv1(x)\n",
    "        x = self.conv2(x)\n",
    "        x = x.view(x.size(0), 32 * 7 * 7)\n",
    "        output = self.out(x)\n",
    "        return output"
   ]
  },
  {
   "cell_type": "code",
   "execution_count": null,
   "id": "uniform-importance",
   "metadata": {},
   "outputs": [],
   "source": [
    "cnn = CNN(n_classes).to(device=device)\n",
    "cnn_params = numberParameters(cnn, model_name = \"classifier\")"
   ]
  },
  {
   "cell_type": "markdown",
   "id": "choice-observation",
   "metadata": {},
   "source": [
    "### 2.c Loss function\n",
    "For classification tasks, the main loss function used is Cross Entropy. As entries, it takes the activations of last layer nodes  and the true labels of data (between 0 and n_classes-1). \n",
    "\n",
    "This loss function should not be changed."
   ]
  },
  {
   "cell_type": "code",
   "execution_count": null,
   "id": "perceived-hepatitis",
   "metadata": {},
   "outputs": [],
   "source": [
    "# Loss function for the CNN\n",
    "\n",
    "loss_function_cnn = nn.CrossEntropyLoss()"
   ]
  },
  {
   "cell_type": "markdown",
   "id": "moving-liver",
   "metadata": {},
   "source": [
    "### 2.d Optimizer\n",
    "Again, we will use Adam as an optimizer.\n",
    "\n",
    "You can play around with the Adam parameters if you want."
   ]
  },
  {
   "cell_type": "code",
   "execution_count": null,
   "id": "sharp-climb",
   "metadata": {},
   "outputs": [],
   "source": [
    "# Adam optimization parameters\n",
    "# Predefined values: lr_cnn = 0.01, betas_cnn = (0.9, 0.999)\n",
    "lr_cnn = 0.01\n",
    "betas_cnn = (0.9, 0.999)\n",
    "\n",
    "optimizer_cnn = torch.optim.Adam(cnn.parameters(), lr=lr_cnn, betas = betas_cnn)"
   ]
  },
  {
   "cell_type": "markdown",
   "id": "useful-maintenance",
   "metadata": {},
   "source": [
    "### 2.e Accuracy\n",
    "We define one error measure as the accuracy reached by the CNN for its classifying predictions. In particular, we call accuracy the ratio between the number of correct classifications and the number of samples. We assume that the most activated output corresponds to the class prediction.\n",
    "\n",
    "During the training, data are loaded batch by batch. It could thus be a good idea to consider that the inputs of the following function are the true and predicted labels from one batch of data.\n",
    "\n",
    "Task: complete the computeCNNAccuracy function."
   ]
  },
  {
   "cell_type": "code",
   "execution_count": null,
   "id": "residential-complement",
   "metadata": {},
   "outputs": [],
   "source": [
    "from sklearn.metrics import accuracy_score\n",
    "\n",
    "\n",
    "def computeCNNAccuracy(y_predicted,y_true):  \n",
    "    accuracy = accuracy_score(y_true, y_predicted)\n",
    "    return accuracy"
   ]
  },
  {
   "cell_type": "markdown",
   "id": "cubic-slovak",
   "metadata": {},
   "source": [
    "### 2.f Preparing the training process\n",
    "In this part, you are asked to initialize the training process (not the model which is initialized automatically). \n",
    "\n",
    "Let's just first define the number of iterations (epochs) that the training will last. Satisfactory results can be obtained with 15 epochs, but you can of course increase this value for a better training."
   ]
  },
  {
   "cell_type": "code",
   "execution_count": null,
   "id": "infectious-commodity",
   "metadata": {},
   "outputs": [],
   "source": [
    "# Number of epochs for the training\n",
    "# Predefined value: num_epochs_cnn = 15\n",
    "\n",
    "num_epochs_cnn = 15"
   ]
  },
  {
   "cell_type": "markdown",
   "id": "extensive-designation",
   "metadata": {},
   "source": [
    "It is important to keep track of the evolution of the error metrics during the training process. A simple idea is to store the values of the metrics in arrays, at least after every epoch.\n",
    "\n",
    "Task: Create arrays that will contain the accuracy for train and test sets, as well as the values of the CNN loss during the training. Compute the errors before training the model and store them in your arrays."
   ]
  },
  {
   "cell_type": "code",
   "execution_count": null,
   "id": "sublime-company",
   "metadata": {},
   "outputs": [],
   "source": [
    "# Error metrics at initialisation\n",
    "\n",
    "accuracy_train = []\n",
    "accuracy_test = []\n",
    "loss_cnn = []\n",
    "\n",
    "# TO COMPLETE"
   ]
  },
  {
   "cell_type": "markdown",
   "id": "practical-england",
   "metadata": {},
   "source": [
    "### 2.g Training and testing the CNN\n",
    "This is finally the core part of this section: training your CNN.\n",
    "\n",
    "The training will follow an easy structure. Here is the pseudo-code of the training process:\n",
    "\n",
    "    for each epoch:\n",
    "\n",
    "        for each batch:\n",
    "\n",
    "            train the classifier on the batch:\n",
    "\n",
    "                predict the labels\n",
    "\n",
    "                compute the classifier loss function\n",
    "\n",
    "                backpropagate the error in the cnn\n",
    "                \n",
    "        end\n",
    "\n",
    "    end\n",
    "\n",
    "Task: Code the CNN training from the pseudo-code given above. Don't forget to switch between training and evaluation modes for the model, by using train() and eval() Pytorch functions. You may also use the time package in order to get information about the duration of the training. Finally, at every epoch, compute and store the accuracy and the loss of the model and generate images from your reference sample."
   ]
  },
  {
   "cell_type": "code",
   "execution_count": null,
   "id": "outdoor-weight",
   "metadata": {},
   "outputs": [],
   "source": [
    "# Training of the CNN\n",
    "\n",
    "def train_CNN(cnn, loss_function, optimizer, train_loader, n_batch, num_epochs, accuracy_training, loss_cnn):\n",
    "    \n",
    "    running_loss = 0.0\n",
    "    for epoch in range(num_epochs):\n",
    "        for data in enumerate(train_loader):\n",
    "            inputs, labels = data\n",
    "            \n",
    "            optimizer.zer_grad()\n",
    "            \n",
    "            predicted = cnn.predictLabels(inputs)\n",
    "        \n",
    "            accuracy_batch = computeCNNAccuracy(predicted,labels)\n",
    "            accuracy_train.append(accuracy_batch)\n",
    "\n",
    "            total += labels.size(0)\n",
    "            correct += (predicted == labels).sum().item()\n",
    "            \n",
    "            loss = loss_function(predicted_labels, labels)\n",
    "            loss.backward()\n",
    "            optimizer.step()\n",
    "            \n",
    "            running_loss += loss.item()\n",
    "        \n",
    "        loss_cnn.append(epoch_loss)\n",
    "            \n",
    "            \n",
    "def test_CNN(cnn, test_loader, accuracy_test):\n",
    "    \n",
    "    with torch.no_grad():\n",
    "    for data in testloader:\n",
    "        inputs, labels = data\n",
    "        \n",
    "        predicted = cnn.predictLabels(inputs)\n",
    "        \n",
    "        accuracy_batch = computeCNNAccuracy(predicted,labels)\n",
    "        accuracy_test.append(accuracy_batch)\n",
    "        \n",
    "        total += labels.size(0)\n",
    "        correct += (predicted == labels).sum().item()\n",
    "    \n",
    "    accuracy = correct / total\n",
    "    return accuracy\n",
    "\n",
    "# TO COMPLETE"
   ]
  },
  {
   "cell_type": "markdown",
   "id": "improved-breast",
   "metadata": {},
   "source": [
    "### 2.h Plot the results\n",
    "Again, you should plot the evolution of your error metrics (accuracy and loss function) in function of the number of epochs, to see how efficient the training is. Show the evolution of the images generated from your reference sample as well.\n",
    "\n",
    "Task: Make those plots, as clean and readable as possible."
   ]
  },
  {
   "cell_type": "code",
   "execution_count": null,
   "id": "special-testimony",
   "metadata": {},
   "outputs": [],
   "source": [
    "# Plots of accuracy and of loss function, images generated from your reference sample.\n",
    "\n",
    "# TO COMPLETE"
   ]
  },
  {
   "cell_type": "markdown",
   "id": "remarkable-network",
   "metadata": {},
   "source": [
    "## Part 2 coming soon\n",
    "You now have operational GANs and CNNs for handwritten digits (and/or letters). In the second part of the homework, you will combine both networks in order to create what you want and learn more about those neural architectures."
   ]
  }
 ],
 "metadata": {
  "kernelspec": {
   "display_name": "Python 3 (ipykernel)",
   "language": "python",
   "name": "python3"
  },
  "language_info": {
   "codemirror_mode": {
    "name": "ipython",
    "version": 3
   },
   "file_extension": ".py",
   "mimetype": "text/x-python",
   "name": "python",
   "nbconvert_exporter": "python",
   "pygments_lexer": "ipython3",
   "version": "3.8.8"
  }
 },
 "nbformat": 4,
 "nbformat_minor": 5
}
