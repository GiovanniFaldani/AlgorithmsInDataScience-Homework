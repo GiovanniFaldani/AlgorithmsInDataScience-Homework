{
 "cells": [
  {
   "cell_type": "markdown",
   "id": "5c10b51c-d21e-4b9b-b814-a83594591d86",
   "metadata": {},
   "source": [
    "# FINAL PROJECT\n",
    "\n",
    "This final project is an analysis of the network of spotify music artists. In particular, the artists are the nodes, and the edges are the featuring between them.\n",
    "The chosen dataset can be found at:\n",
    "https://www.kaggle.com/datasets/jfreyberg/spotify-artist-feature-collaboration-network?select=nodes.csv"
   ]
  },
  {
   "cell_type": "code",
   "execution_count": 1,
   "id": "20e5383f-62fe-4c86-b990-b527309e4fe1",
   "metadata": {},
   "outputs": [
    {
     "name": "stderr",
     "output_type": "stream",
     "text": [
      "[nltk_data] Downloading package punkt to\n",
      "[nltk_data]     C:\\Users\\Iacopo\\AppData\\Roaming\\nltk_data...\n",
      "[nltk_data]   Package punkt is already up-to-date!\n"
     ]
    },
    {
     "data": {
      "text/plain": [
       "True"
      ]
     },
     "execution_count": 1,
     "metadata": {},
     "output_type": "execute_result"
    }
   ],
   "source": [
    "# basic imports\n",
    "import numpy as np\n",
    "from numpy import linalg as LA\n",
    "import pandas as pd # useful dataframe support\n",
    "import scipy as sp\n",
    "from matplotlib import pyplot as plt # plot operations\n",
    "import networkx as nx # useful for network operations\n",
    "import nltk # useful for sentence parsing\n",
    "import re # regular expressions for text parsing and finding proper names\n",
    "import networkx.algorithms.community as nx_comm\n",
    "import sklearn\n",
    "from sklearn.cluster import SpectralClustering\n",
    "import communities.algorithms as comm\n",
    "nltk.download('punkt')"
   ]
  },
  {
   "cell_type": "markdown",
   "id": "b37b1b37-2452-44e7-889e-491784b237f6",
   "metadata": {},
   "source": [
    "## PART 1: Data preprocessing\n",
    "\n",
    "In this first part, data is stored in the structures used for the whole project and modified if needed."
   ]
  },
  {
   "cell_type": "code",
   "execution_count": 7,
   "id": "a0048463-9aa5-4d70-89a2-ede24608f893",
   "metadata": {},
   "outputs": [
    {
     "name": "stdout",
     "output_type": "stream",
     "text": [
      "                     id_0                    id_1\n",
      "0  76M2Ekj8bG8W7X2nbx2CpF  7sfl4Xt5KmfyDs2T3SVSMK\n",
      "1  0hk4xVujcyOr6USD95wcWb  7Do8se3ZoaVqUt3woqqSrD\n",
      "2  38jpuy3yt3QIxQ8Fn1HTeJ  4csQIMQm6vI2A2SCVDuM2z\n",
      "3  6PvcxssrQ0QaJVaBWHD07l  6UCQYrcJ6wab6gnQ89OJFh\n",
      "4  2R1QrQqWuw3IjoP5dXRFjt  4mk1ScvOUkuQzzCZpT6bc0\n",
      "               spotify_id                name  followers  popularity  \\\n",
      "0  48WvrUGoijadXXCsGocwM4           Byklubben     1738.0          24   \n",
      "1  4lDiJcOJ2GLCK6p9q5BgfK            Kontra K  1999676.0          72   \n",
      "2  652XIvIBNGg3C0KIGEJWit               Maxim    34596.0          36   \n",
      "3  3dXC1YPbnQPsfHPVkm1ipj  Christopher Martin   249233.0          52   \n",
      "4  74terC9ol9zMo8rfzhSOiG       Jakob Hellman    21193.0          39   \n",
      "\n",
      "                                              genres  \\\n",
      "0                     ['nordic house', 'russelater']   \n",
      "1             ['christlicher rap', 'german hip hop']   \n",
      "2                                                 []   \n",
      "3  ['dancehall', 'lovers rock', 'modern reggae', ...   \n",
      "4  ['classic swedish pop', 'norrbotten indie', 's...   \n",
      "\n",
      "                                          chart_hits  \n",
      "0                                         ['no (3)']  \n",
      "1  ['at (44)', 'de (111)', 'lu (22)', 'ch (31)', ...  \n",
      "2                                         ['de (1)']  \n",
      "3                               ['at (1)', 'de (1)']  \n",
      "4                                         ['se (6)']  \n"
     ]
    }
   ],
   "source": [
    "feats = pd.read_csv(\"./data/edges.csv\")\n",
    "artists = pd.read_csv(\"./data/nodes.csv\")\n",
    "\n",
    "print(feats.head())\n",
    "print(artists.head())\n"
   ]
  },
  {
   "cell_type": "code",
   "execution_count": 21,
   "id": "bd89df54-10e1-4cee-9900-011cac64ae8e",
   "metadata": {},
   "outputs": [
    {
     "name": "stdout",
     "output_type": "stream",
     "text": [
      "['spotify_id' 'name' 'followers' 'popularity' 'genres' 'chart_hits']\n",
      "['spotify_id', 'name', 'followers', 'popularity', 'genres', 'chart_hits']\n"
     ]
    }
   ],
   "source": [
    "print(artists.columns.values)\n",
    "print(list(artists.columns.values))\n"
   ]
  },
  {
   "cell_type": "code",
   "execution_count": 28,
   "id": "7e5b548c-6dd9-43b0-9fdf-0f47d7d7dcab",
   "metadata": {},
   "outputs": [
    {
     "name": "stdout",
     "output_type": "stream",
     "text": [
      "['Byklubben', 1738.0, 24, \"['nordic house', 'russelater']\", \"['no (3)']\"]\n"
     ]
    }
   ],
   "source": [
    "G = nx.Graph()\n",
    "\n",
    "artists_attr = dict()\n",
    "attributes = list(artists.columns.values)\n",
    "attributes.remove('spotify_id')\n",
    "\n",
    "\n",
    "# add one node per artist\n",
    "for i in range(len(artists)):\n",
    "    #add id as node\n",
    "    print(list(artists.iloc[i, 1:]))\n",
    "    #current_id = artists.loc[artists.index[i] , 'spotify_id']\n",
    "    break\n",
    "    G.add_node(current_id, size = 1)\n",
    "    \n",
    "    #create id-attributes dictionary\n",
    "    #dict_entry = current_id: artists.iloc[i, 1:]\n",
    "    artists_attr.append(dict_entry)\n",
    "    \n",
    "    \n",
    "# add node labels\n",
    "nx.set_node_attributes(G, artists_attr, name='attributes' )"
   ]
  },
  {
   "cell_type": "code",
   "execution_count": null,
   "id": "279cc28f-649c-4986-a091-5239ef7c7aec",
   "metadata": {},
   "outputs": [],
   "source": [
    "# add the edges from the adjacency matrix (avoid duplicates)\n",
    "\n",
    "for i in range(len(adjacencyMatrix)-1):\n",
    "    for j in range(i+1, len(adjacencyMatrix[0])):\n",
    "        if adjacencyMatrix[i][j] != 0 :\n",
    "            G.add_edge(i,j, weight = adjacencyMatrix[i][j])\n",
    "    \n",
    "    \n",
    "    \n",
    "print(nx.info(G))\n",
    "#print(G.nodes[0][\"\"])\n",
    "\n",
    "def print_graph(G):\n",
    "    g_draw = G\n",
    "\n",
    "    fig = plt.figure(figsize=(10,10))\n",
    "    pos = nx.circular_layout(g_draw)\n",
    "    nx.draw(g_draw, pos, node_color='lightblue', edge_color='lightblue', node_size=50, labels = nx.get_node_attributes(G, 'Names'), with_labels = True, width=0.5)\n",
    "    \n",
    "    \n",
    "    \n",
    "print_graph(G)\n",
    "plt.savefig('./data/socialNetwork.png',dpi=300)\n",
    "plt.show()"
   ]
  }
 ],
 "metadata": {
  "kernelspec": {
   "display_name": "Python 3 (ipykernel)",
   "language": "python",
   "name": "python3"
  },
  "language_info": {
   "codemirror_mode": {
    "name": "ipython",
    "version": 3
   },
   "file_extension": ".py",
   "mimetype": "text/x-python",
   "name": "python",
   "nbconvert_exporter": "python",
   "pygments_lexer": "ipython3",
   "version": "3.9.12"
  }
 },
 "nbformat": 4,
 "nbformat_minor": 5
}
