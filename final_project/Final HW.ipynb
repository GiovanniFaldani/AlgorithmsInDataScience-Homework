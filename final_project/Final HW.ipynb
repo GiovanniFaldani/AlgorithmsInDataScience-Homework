{
 "cells": [
  {
   "cell_type": "markdown",
   "id": "5c10b51c-d21e-4b9b-b814-a83594591d86",
   "metadata": {},
   "source": [
    "# FINAL PROJECT\n",
    "\n",
    "This final project is an analysis of the network of spotify music artists. In particular, the artists are the nodes, and the edges are the featuring between them.\n",
    "The chosen dataset can be found at:\n",
    "https://www.kaggle.com/datasets/jfreyberg/spotify-artist-feature-collaboration-network?select=nodes.csv"
   ]
  },
  {
   "cell_type": "code",
   "execution_count": 1,
   "id": "20e5383f-62fe-4c86-b990-b527309e4fe1",
   "metadata": {},
   "outputs": [
    {
     "name": "stderr",
     "output_type": "stream",
     "text": [
      "[nltk_data] Downloading package punkt to\n",
      "[nltk_data]     C:\\Users\\Iacopo\\AppData\\Roaming\\nltk_data...\n",
      "[nltk_data]   Package punkt is already up-to-date!\n"
     ]
    },
    {
     "data": {
      "text/plain": [
       "True"
      ]
     },
     "execution_count": 1,
     "metadata": {},
     "output_type": "execute_result"
    }
   ],
   "source": [
    "# basic imports\n",
    "import numpy as np\n",
    "from numpy import linalg as LA\n",
    "import pandas as pd # useful dataframe support\n",
    "import scipy as sp\n",
    "from matplotlib import pyplot as plt # plot operations\n",
    "import networkx as nx # useful for network operations\n",
    "import nltk # useful for sentence parsing\n",
    "import re # regular expressions for text parsing and finding proper names\n",
    "import networkx.algorithms.community as nx_comm\n",
    "import sklearn\n",
    "from sklearn.cluster import SpectralClustering\n",
    "import communities.algorithms as comm\n",
    "nltk.download('punkt')"
   ]
  },
  {
   "cell_type": "markdown",
   "id": "b37b1b37-2452-44e7-889e-491784b237f6",
   "metadata": {},
   "source": [
    "## PART 1: Data preprocessing\n",
    "\n",
    "In this first part, data is stored in the structures used for the whole project and modified if needed."
   ]
  },
  {
   "cell_type": "code",
   "execution_count": 2,
   "id": "a0048463-9aa5-4d70-89a2-ede24608f893",
   "metadata": {},
   "outputs": [
    {
     "name": "stdout",
     "output_type": "stream",
     "text": [
      "                     id_0                    id_1\n",
      "0  76M2Ekj8bG8W7X2nbx2CpF  7sfl4Xt5KmfyDs2T3SVSMK\n",
      "1  0hk4xVujcyOr6USD95wcWb  7Do8se3ZoaVqUt3woqqSrD\n",
      "2  38jpuy3yt3QIxQ8Fn1HTeJ  4csQIMQm6vI2A2SCVDuM2z\n",
      "3  6PvcxssrQ0QaJVaBWHD07l  6UCQYrcJ6wab6gnQ89OJFh\n",
      "4  2R1QrQqWuw3IjoP5dXRFjt  4mk1ScvOUkuQzzCZpT6bc0\n",
      "               spotify_id                name  followers  popularity  \\\n",
      "0  48WvrUGoijadXXCsGocwM4           Byklubben     1738.0          24   \n",
      "1  4lDiJcOJ2GLCK6p9q5BgfK            Kontra K  1999676.0          72   \n",
      "2  652XIvIBNGg3C0KIGEJWit               Maxim    34596.0          36   \n",
      "3  3dXC1YPbnQPsfHPVkm1ipj  Christopher Martin   249233.0          52   \n",
      "4  74terC9ol9zMo8rfzhSOiG       Jakob Hellman    21193.0          39   \n",
      "\n",
      "                                              genres  \\\n",
      "0                     ['nordic house', 'russelater']   \n",
      "1             ['christlicher rap', 'german hip hop']   \n",
      "2                                                 []   \n",
      "3  ['dancehall', 'lovers rock', 'modern reggae', ...   \n",
      "4  ['classic swedish pop', 'norrbotten indie', 's...   \n",
      "\n",
      "                                          chart_hits  \n",
      "0                                         ['no (3)']  \n",
      "1  ['at (44)', 'de (111)', 'lu (22)', 'ch (31)', ...  \n",
      "2                                         ['de (1)']  \n",
      "3                               ['at (1)', 'de (1)']  \n",
      "4                                         ['se (6)']  \n"
     ]
    }
   ],
   "source": [
    "feats = pd.read_csv(\"./data/edges.csv\")\n",
    "artists = pd.read_csv(\"./data/nodes.csv\")\n",
    "\n",
    "print(feats.head())\n",
    "print(artists.head())\n"
   ]
  },
  {
   "cell_type": "code",
   "execution_count": 3,
   "id": "bd89df54-10e1-4cee-9900-011cac64ae8e",
   "metadata": {},
   "outputs": [],
   "source": [
    "#cast all names to string(there are floats) \n",
    "\n",
    "for j in range(artists.shape[0]):\n",
    "    artists.loc[artists.index[j] , 'name'] = str(artists.loc[artists.index[j] , 'name'])\n"
   ]
  },
  {
   "cell_type": "code",
   "execution_count": 4,
   "id": "7e5b548c-6dd9-43b0-9fdf-0f47d7d7dcab",
   "metadata": {},
   "outputs": [],
   "source": [
    "G = nx.Graph()\n",
    "\n",
    "artists_attr = []\n",
    "attributes = list(artists.columns.values)\n",
    "attributes.remove('spotify_id')\n",
    "\n",
    "for i in range(len(attributes)):\n",
    "    artists_attr.append(dict())\n",
    "\n",
    "\n",
    "# add one node per artist\n",
    "for i in range(len(artists)):\n",
    "    #add id as node\n",
    "    current_id = artists.loc[artists.index[i] , 'spotify_id']\n",
    "    G.add_node(current_id, size = 1)\n",
    "    \n",
    "    #create id-attributes dictionary\n",
    "    for j in range(len(attributes)):\n",
    "        dict_entry = artists.iloc[i, j+1]\n",
    "        artists_attr[j][current_id] = dict_entry\n",
    "    \n",
    "    \n",
    "# add node labels\n",
    "for i in range(len(attributes)):\n",
    "    nx.set_node_attributes(G, artists_attr[i], name = attributes[i])"
   ]
  },
  {
   "cell_type": "code",
   "execution_count": 5,
   "id": "279cc28f-649c-4986-a091-5239ef7c7aec",
   "metadata": {},
   "outputs": [
    {
     "name": "stdout",
     "output_type": "stream",
     "text": [
      "Graph with 156326 nodes and 300386 edges\n"
     ]
    },
    {
     "name": "stderr",
     "output_type": "stream",
     "text": [
      "C:\\Users\\Iacopo\\AppData\\Local\\Temp\\ipykernel_2924\\1509456981.py:7: DeprecationWarning: info is deprecated and will be removed in version 3.0.\n",
      "\n",
      "  print(nx.info(G))\n"
     ]
    }
   ],
   "source": [
    "# add the edges\n",
    "for i in range(len(feats)):\n",
    "    current_edge = list(feats.iloc[i])\n",
    "    G.add_edge(current_edge[0], current_edge[1])\n",
    "    \n",
    "    \n",
    "print(nx.info(G))\n",
    "\n",
    "\n",
    "#print(G.nodes[0][\"\"])"
   ]
  },
  {
   "cell_type": "code",
   "execution_count": 6,
   "id": "12be6f43-810f-44d4-9f32-48e0573aaa44",
   "metadata": {},
   "outputs": [
    {
     "name": "stdout",
     "output_type": "stream",
     "text": [
      "10\n",
      "['Mokke', 4495.0, 42, \"['swedish drill', 'swedish hip hop', 'swedish trap pop']\", \"['se (2)']\"]\n",
      "夜\n"
     ]
    }
   ],
   "source": [
    "print(G.degree['4mk1ScvOUkuQzzCZpT6bc0'])\n",
    "names = nx.get_node_attributes(G, \"name\")\n",
    "\n",
    "print(list(artists.iloc[100, 1:]))\n",
    "\n",
    "print('\\N{CJK UNIFIED IDEOGRAPH-591C}')\n",
    "\n",
    "for j in range(artists.shape[0]):\n",
    "    cur_name = artists.loc[artists.index[j] , 'name']\n"
   ]
  },
  {
   "cell_type": "code",
   "execution_count": 7,
   "id": "3272f2af-8b29-4bab-a4f0-2e7c9907f0a0",
   "metadata": {},
   "outputs": [],
   "source": [
    "import matplotlib.font_manager as fm\n",
    "fprop = fm.FontProperties(fname='./Fonts/NotoSansJP-Black.otf')\n",
    "fprop = fm.FontProperties(fname='./Fonts/NotoSansThai-Black.ttf')\n",
    "fprop = fm.FontProperties(fname='./Fonts/NotoSansKR-Black.otf')\n",
    "fprop = fm.FontProperties(fname='./Fonts/NotoSansTC-Black.ttf')"
   ]
  },
  {
   "cell_type": "code",
   "execution_count": 8,
   "id": "96125f9e-b004-44f7-90da-633773cce5bc",
   "metadata": {},
   "outputs": [
    {
     "name": "stderr",
     "output_type": "stream",
     "text": [
      "\n",
      "KeyboardInterrupt\n",
      "\n"
     ]
    },
    {
     "name": "stdout",
     "output_type": "stream",
     "text": [
      "Error in callback <function flush_figures at 0x0000023B1069A820> (for post_execute):\n"
     ]
    },
    {
     "name": "stderr",
     "output_type": "stream",
     "text": [
      "\n",
      "KeyboardInterrupt\n",
      "\n"
     ]
    }
   ],
   "source": [
    "def print_graph(G):\n",
    "    g_draw = G\n",
    "\n",
    "    fig = plt.figure(figsize=(10,10))\n",
    "    pos = nx.circular_layout(g_draw)\n",
    "    nx.draw(g_draw, pos, node_color='lightblue', edge_color='lightblue', node_size=0.1, with_labels = False, width=0.5)\n",
    "    \n",
    "    \n",
    "    \n",
    "print_graph(G)\n",
    "plt.savefig('./Figures/socialNetwork.png',dpi=300)\n",
    "plt.show()"
   ]
  },
  {
   "cell_type": "code",
   "execution_count": 7,
   "id": "a9cc82e1-1004-4dac-809c-cd6e3045d501",
   "metadata": {},
   "outputs": [
    {
     "ename": "KeyboardInterrupt",
     "evalue": "",
     "output_type": "error",
     "traceback": [
      "\u001b[1;31m---------------------------------------------------------------------------\u001b[0m",
      "\u001b[1;31mKeyboardInterrupt\u001b[0m                         Traceback (most recent call last)",
      "Input \u001b[1;32mIn [7]\u001b[0m, in \u001b[0;36m<cell line: 25>\u001b[1;34m()\u001b[0m\n\u001b[0;32m     22\u001b[0m     \u001b[38;5;28;01mdel\u001b[39;00m fig\n\u001b[0;32m     24\u001b[0m \u001b[38;5;66;03m#Assuming that the graph g has nodes and edges entered\u001b[39;00m\n\u001b[1;32m---> 25\u001b[0m \u001b[43msave_graph\u001b[49m\u001b[43m(\u001b[49m\u001b[43mG\u001b[49m\u001b[43m,\u001b[49m\u001b[38;5;124;43m\"\u001b[39;49m\u001b[38;5;124;43mmy_graph.pdf\u001b[39;49m\u001b[38;5;124;43m\"\u001b[39;49m\u001b[43m)\u001b[49m\n",
      "Input \u001b[1;32mIn [7]\u001b[0m, in \u001b[0;36msave_graph\u001b[1;34m(graph, file_name)\u001b[0m\n\u001b[0;32m      7\u001b[0m plt\u001b[38;5;241m.\u001b[39maxis(\u001b[38;5;124m'\u001b[39m\u001b[38;5;124moff\u001b[39m\u001b[38;5;124m'\u001b[39m)\n\u001b[0;32m      8\u001b[0m fig \u001b[38;5;241m=\u001b[39m plt\u001b[38;5;241m.\u001b[39mfigure(\u001b[38;5;241m1\u001b[39m)\n\u001b[1;32m----> 9\u001b[0m pos \u001b[38;5;241m=\u001b[39m \u001b[43mnx\u001b[49m\u001b[38;5;241;43m.\u001b[39;49m\u001b[43mspring_layout\u001b[49m\u001b[43m(\u001b[49m\u001b[43mgraph\u001b[49m\u001b[43m)\u001b[49m\n\u001b[0;32m     10\u001b[0m nx\u001b[38;5;241m.\u001b[39mdraw_networkx_nodes(graph,pos)\n\u001b[0;32m     11\u001b[0m nx\u001b[38;5;241m.\u001b[39mdraw_networkx_edges(graph,pos)\n",
      "File \u001b[1;32m~\\miniconda3\\lib\\site-packages\\networkx\\utils\\decorators.py:845\u001b[0m, in \u001b[0;36margmap.__call__.<locals>.func\u001b[1;34m(_argmap__wrapper, *args, **kwargs)\u001b[0m\n\u001b[0;32m    844\u001b[0m \u001b[38;5;28;01mdef\u001b[39;00m \u001b[38;5;21mfunc\u001b[39m(\u001b[38;5;241m*\u001b[39margs, __wrapper\u001b[38;5;241m=\u001b[39m\u001b[38;5;28;01mNone\u001b[39;00m, \u001b[38;5;241m*\u001b[39m\u001b[38;5;241m*\u001b[39mkwargs):\n\u001b[1;32m--> 845\u001b[0m     \u001b[38;5;28;01mreturn\u001b[39;00m argmap\u001b[38;5;241m.\u001b[39m_lazy_compile(__wrapper)(\u001b[38;5;241m*\u001b[39margs, \u001b[38;5;241m*\u001b[39m\u001b[38;5;241m*\u001b[39mkwargs)\n",
      "File \u001b[1;32m<class 'networkx.utils.decorators.argmap'> compilation 4:4\u001b[0m, in \u001b[0;36margmap_spring_layout_1\u001b[1;34m(G, k, pos, fixed, iterations, threshold, weight, scale, center, dim, seed)\u001b[0m\n\u001b[0;32m      2\u001b[0m \u001b[38;5;28;01mimport\u001b[39;00m \u001b[38;5;21;01mcollections\u001b[39;00m\n\u001b[0;32m      3\u001b[0m \u001b[38;5;28;01mimport\u001b[39;00m \u001b[38;5;21;01mgzip\u001b[39;00m\n\u001b[1;32m----> 4\u001b[0m \u001b[38;5;28;01mimport\u001b[39;00m \u001b[38;5;21;01minspect\u001b[39;00m\n\u001b[0;32m      5\u001b[0m \u001b[38;5;28;01mimport\u001b[39;00m \u001b[38;5;21;01mitertools\u001b[39;00m\n\u001b[0;32m      6\u001b[0m \u001b[38;5;28;01mimport\u001b[39;00m \u001b[38;5;21;01mre\u001b[39;00m\n",
      "File \u001b[1;32m~\\miniconda3\\lib\\site-packages\\networkx\\drawing\\layout.py:481\u001b[0m, in \u001b[0;36mspring_layout\u001b[1;34m(G, k, pos, fixed, iterations, threshold, weight, scale, center, dim, seed)\u001b[0m\n\u001b[0;32m    479\u001b[0m         nnodes, _ \u001b[38;5;241m=\u001b[39m A\u001b[38;5;241m.\u001b[39mshape\n\u001b[0;32m    480\u001b[0m         k \u001b[38;5;241m=\u001b[39m dom_size \u001b[38;5;241m/\u001b[39m np\u001b[38;5;241m.\u001b[39msqrt(nnodes)\n\u001b[1;32m--> 481\u001b[0m     pos \u001b[38;5;241m=\u001b[39m \u001b[43m_sparse_fruchterman_reingold\u001b[49m\u001b[43m(\u001b[49m\n\u001b[0;32m    482\u001b[0m \u001b[43m        \u001b[49m\u001b[43mA\u001b[49m\u001b[43m,\u001b[49m\u001b[43m \u001b[49m\u001b[43mk\u001b[49m\u001b[43m,\u001b[49m\u001b[43m \u001b[49m\u001b[43mpos_arr\u001b[49m\u001b[43m,\u001b[49m\u001b[43m \u001b[49m\u001b[43mfixed\u001b[49m\u001b[43m,\u001b[49m\u001b[43m \u001b[49m\u001b[43miterations\u001b[49m\u001b[43m,\u001b[49m\u001b[43m \u001b[49m\u001b[43mthreshold\u001b[49m\u001b[43m,\u001b[49m\u001b[43m \u001b[49m\u001b[43mdim\u001b[49m\u001b[43m,\u001b[49m\u001b[43m \u001b[49m\u001b[43mseed\u001b[49m\n\u001b[0;32m    483\u001b[0m \u001b[43m    \u001b[49m\u001b[43m)\u001b[49m\n\u001b[0;32m    484\u001b[0m \u001b[38;5;28;01mexcept\u001b[39;00m \u001b[38;5;167;01mValueError\u001b[39;00m:\n\u001b[0;32m    485\u001b[0m     A \u001b[38;5;241m=\u001b[39m nx\u001b[38;5;241m.\u001b[39mto_numpy_array(G, weight\u001b[38;5;241m=\u001b[39mweight)\n",
      "File \u001b[1;32m~\\miniconda3\\lib\\site-packages\\networkx\\utils\\decorators.py:845\u001b[0m, in \u001b[0;36margmap.__call__.<locals>.func\u001b[1;34m(_argmap__wrapper, *args, **kwargs)\u001b[0m\n\u001b[0;32m    844\u001b[0m \u001b[38;5;28;01mdef\u001b[39;00m \u001b[38;5;21mfunc\u001b[39m(\u001b[38;5;241m*\u001b[39margs, __wrapper\u001b[38;5;241m=\u001b[39m\u001b[38;5;28;01mNone\u001b[39;00m, \u001b[38;5;241m*\u001b[39m\u001b[38;5;241m*\u001b[39mkwargs):\n\u001b[1;32m--> 845\u001b[0m     \u001b[38;5;28;01mreturn\u001b[39;00m argmap\u001b[38;5;241m.\u001b[39m_lazy_compile(__wrapper)(\u001b[38;5;241m*\u001b[39margs, \u001b[38;5;241m*\u001b[39m\u001b[38;5;241m*\u001b[39mkwargs)\n",
      "File \u001b[1;32m<class 'networkx.utils.decorators.argmap'> compilation 8:4\u001b[0m, in \u001b[0;36margmap__sparse_fruchterman_reingold_5\u001b[1;34m(A, k, pos, fixed, iterations, threshold, dim, seed)\u001b[0m\n\u001b[0;32m      2\u001b[0m \u001b[38;5;28;01mimport\u001b[39;00m \u001b[38;5;21;01mcollections\u001b[39;00m\n\u001b[0;32m      3\u001b[0m \u001b[38;5;28;01mimport\u001b[39;00m \u001b[38;5;21;01mgzip\u001b[39;00m\n\u001b[1;32m----> 4\u001b[0m \u001b[38;5;28;01mimport\u001b[39;00m \u001b[38;5;21;01minspect\u001b[39;00m\n\u001b[0;32m      5\u001b[0m \u001b[38;5;28;01mimport\u001b[39;00m \u001b[38;5;21;01mitertools\u001b[39;00m\n\u001b[0;32m      6\u001b[0m \u001b[38;5;28;01mimport\u001b[39;00m \u001b[38;5;21;01mre\u001b[39;00m\n",
      "File \u001b[1;32m~\\miniconda3\\lib\\site-packages\\networkx\\drawing\\layout.py:617\u001b[0m, in \u001b[0;36m_sparse_fruchterman_reingold\u001b[1;34m(A, k, pos, fixed, iterations, threshold, dim, seed)\u001b[0m\n\u001b[0;32m    615\u001b[0m delta \u001b[38;5;241m=\u001b[39m (pos[i] \u001b[38;5;241m-\u001b[39m pos)\u001b[38;5;241m.\u001b[39mT\n\u001b[0;32m    616\u001b[0m \u001b[38;5;66;03m# distance between points\u001b[39;00m\n\u001b[1;32m--> 617\u001b[0m distance \u001b[38;5;241m=\u001b[39m np\u001b[38;5;241m.\u001b[39msqrt(\u001b[43m(\u001b[49m\u001b[43mdelta\u001b[49m\u001b[38;5;241;43m*\u001b[39;49m\u001b[38;5;241;43m*\u001b[39;49m\u001b[38;5;241;43m2\u001b[39;49m\u001b[43m)\u001b[49m\u001b[38;5;241;43m.\u001b[39;49m\u001b[43msum\u001b[49m\u001b[43m(\u001b[49m\u001b[43maxis\u001b[49m\u001b[38;5;241;43m=\u001b[39;49m\u001b[38;5;241;43m0\u001b[39;49m\u001b[43m)\u001b[49m)\n\u001b[0;32m    618\u001b[0m \u001b[38;5;66;03m# enforce minimum distance of 0.01\u001b[39;00m\n\u001b[0;32m    619\u001b[0m distance \u001b[38;5;241m=\u001b[39m np\u001b[38;5;241m.\u001b[39mwhere(distance \u001b[38;5;241m<\u001b[39m \u001b[38;5;241m0.01\u001b[39m, \u001b[38;5;241m0.01\u001b[39m, distance)\n",
      "File \u001b[1;32m~\\miniconda3\\lib\\site-packages\\numpy\\core\\_methods.py:48\u001b[0m, in \u001b[0;36m_sum\u001b[1;34m(a, axis, dtype, out, keepdims, initial, where)\u001b[0m\n\u001b[0;32m     46\u001b[0m \u001b[38;5;28;01mdef\u001b[39;00m \u001b[38;5;21m_sum\u001b[39m(a, axis\u001b[38;5;241m=\u001b[39m\u001b[38;5;28;01mNone\u001b[39;00m, dtype\u001b[38;5;241m=\u001b[39m\u001b[38;5;28;01mNone\u001b[39;00m, out\u001b[38;5;241m=\u001b[39m\u001b[38;5;28;01mNone\u001b[39;00m, keepdims\u001b[38;5;241m=\u001b[39m\u001b[38;5;28;01mFalse\u001b[39;00m,\n\u001b[0;32m     47\u001b[0m          initial\u001b[38;5;241m=\u001b[39m_NoValue, where\u001b[38;5;241m=\u001b[39m\u001b[38;5;28;01mTrue\u001b[39;00m):\n\u001b[1;32m---> 48\u001b[0m     \u001b[38;5;28;01mreturn\u001b[39;00m \u001b[43mumr_sum\u001b[49m\u001b[43m(\u001b[49m\u001b[43ma\u001b[49m\u001b[43m,\u001b[49m\u001b[43m \u001b[49m\u001b[43maxis\u001b[49m\u001b[43m,\u001b[49m\u001b[43m \u001b[49m\u001b[43mdtype\u001b[49m\u001b[43m,\u001b[49m\u001b[43m \u001b[49m\u001b[43mout\u001b[49m\u001b[43m,\u001b[49m\u001b[43m \u001b[49m\u001b[43mkeepdims\u001b[49m\u001b[43m,\u001b[49m\u001b[43m \u001b[49m\u001b[43minitial\u001b[49m\u001b[43m,\u001b[49m\u001b[43m \u001b[49m\u001b[43mwhere\u001b[49m\u001b[43m)\u001b[49m\n",
      "\u001b[1;31mKeyboardInterrupt\u001b[0m: "
     ]
    },
    {
     "data": {
      "image/png": "[encoded data removed]",
      "text/plain": [
       "<Figure size 1600x1600 with 1 Axes>"
      ]
     },
     "metadata": {},
     "output_type": "display_data"
    }
   ],
   "source": [
    "from matplotlib import pylab\n",
    "#https://stackoverflow.com/questions/17381006/large-graph-visualization-with-python-and-networkx\n",
    "\n",
    "def save_graph(graph,file_name):\n",
    "    #initialze Figure\n",
    "    plt.figure(num=None, figsize=(20, 20), dpi=80)\n",
    "    plt.axis('off')\n",
    "    fig = plt.figure(1)\n",
    "    pos = nx.spring_layout(graph)\n",
    "    nx.draw_networkx_nodes(graph,pos)\n",
    "    nx.draw_networkx_edges(graph,pos)\n",
    "    #nx.draw_networkx_labels(graph,pos)\n",
    "\n",
    "    cut = 1.00\n",
    "    xmax = cut * max(xx for xx, yy in pos.values())\n",
    "    ymax = cut * max(yy for xx, yy in pos.values())\n",
    "    plt.xlim(0, xmax)\n",
    "    plt.ylim(0, ymax)\n",
    "\n",
    "    plt.savefig(file_name,bbox_inches=\"tight\")\n",
    "    pylab.close()\n",
    "    del fig\n",
    "\n",
    "#Assuming that the graph g has nodes and edges entered\n",
    "save_graph(G,\"my_graph.pdf\")"
   ]
  },
  {
   "cell_type": "code",
   "execution_count": null,
   "id": "b0d5bddc-7f5a-40d3-817a-4d46aac64af9",
   "metadata": {},
   "outputs": [],
   "source": []
  }
 ],
 "metadata": {
  "kernelspec": {
   "display_name": "Python 3 (ipykernel)",
   "language": "python",
   "name": "python3"
  },
  "language_info": {
   "codemirror_mode": {
    "name": "ipython",
    "version": 3
   },
   "file_extension": ".py",
   "mimetype": "text/x-python",
   "name": "python",
   "nbconvert_exporter": "python",
   "pygments_lexer": "ipython3",
   "version": "3.9.12"
  }
 },
 "nbformat": 4,
 "nbformat_minor": 5
}
